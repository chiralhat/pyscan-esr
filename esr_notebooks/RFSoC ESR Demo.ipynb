{
 "cells": [
  {
   "cell_type": "markdown",
   "id": "60009897-0eb1-48ae-aa9a-277361eae995",
   "metadata": {},
   "source": [
    "This notebook attempts to provide the minimum framework necessary to perform a Hahn echo experiment using the CPMGProgram defined in `rfsoc.py`. We start by initializing the SoC and setting our channels. I'll assume we're using the first channel for both output and readout."
   ]
  },
  {
   "cell_type": "code",
   "execution_count": 1,
   "id": "626a10b5-d41c-4bb6-a9b6-3002438381d8",
   "metadata": {},
   "outputs": [
    {
     "data": {
      "application/javascript": [
       "\n",
       "try {\n",
       "require(['notebook/js/codecell'], function(codecell) {\n",
       "  codecell.CodeCell.options_default.highlight_modes[\n",
       "      'magic_text/x-csrc'] = {'reg':[/^%%microblaze/]};\n",
       "  Jupyter.notebook.events.one('kernel_ready.Kernel', function(){\n",
       "      Jupyter.notebook.get_cells().map(function(cell){\n",
       "          if (cell.cell_type == 'code'){ cell.auto_highlight(); } }) ;\n",
       "  });\n",
       "});\n",
       "} catch (e) {};\n"
      ]
     },
     "metadata": {},
     "output_type": "display_data"
    },
    {
     "data": {
      "application/javascript": [
       "\n",
       "try {\n",
       "require(['notebook/js/codecell'], function(codecell) {\n",
       "  codecell.CodeCell.options_default.highlight_modes[\n",
       "      'magic_text/x-csrc'] = {'reg':[/^%%pybind11/]};\n",
       "  Jupyter.notebook.events.one('kernel_ready.Kernel', function(){\n",
       "      Jupyter.notebook.get_cells().map(function(cell){\n",
       "          if (cell.cell_type == 'code'){ cell.auto_highlight(); } }) ;\n",
       "  });\n",
       "});\n",
       "} catch (e) {};\n"
      ]
     },
     "metadata": {},
     "output_type": "display_data"
    }
   ],
   "source": [
    "# Import the QICK drivers and auxiliary libraries\n",
    "from qick import *\n",
    "import matplotlib.pyplot as plt\n",
    "import numpy as np\n",
    "from collections import defaultdict\n",
    "soc = QickSoc()\n",
    "\n",
    "GEN_CH = 0\n",
    "RO_CH = 0"
   ]
  },
  {
   "cell_type": "markdown",
   "id": "1f593272-2751-4408-bf0a-26129d076f99",
   "metadata": {},
   "source": [
    "Next we define our pulse generator class."
   ]
  },
  {
   "cell_type": "code",
   "execution_count": 2,
   "id": "38e2b568-69b2-4651-b4f5-74f1df746453",
   "metadata": {},
   "outputs": [],
   "source": [
    "class CPMGProgram(AveragerProgram):\n",
    "    def trigger_no_off(self, pins=None, t=0, rp=0, r_out=31):\n",
    "        \"\"\"\n",
    "        Adapted from qick-dawg. Currently only used for digital I/O pins, so I removed the rest.\n",
    "        Sets the specified pin high starting at time t, lasting until the end of the cycle.\n",
    "        \n",
    "        Method that is a slight modification of qick.QickProgram.trigger().\n",
    "        This method does not turn off the PMOD pins, thus also does not require a width parameter\n",
    "\n",
    "        Parameters\n",
    "        ----------\n",
    "        pins : list of int\n",
    "            List of marker pins to pulsem, i.e. PMOD channels.\n",
    "            Use the pin numbers in the QickConfig printout.\n",
    "        adc_trig_offset : int, optional\n",
    "            Offset time at which the ADC is triggered (in tProc cycles)\n",
    "        t : int, optional\n",
    "            The number of tProc cycles at which the ADC trigger starts\n",
    "        rp : int, optional\n",
    "            Register page\n",
    "        r_out : int, optional\n",
    "            Register number\n",
    "        \"\"\"\n",
    "        if pins is None:\n",
    "            pins = []\n",
    "        if not pins:\n",
    "            raise RuntimeError(\"must pulse at least one pin\")\n",
    "            \n",
    "        outdict = defaultdict(int)\n",
    "        for pin in pins:\n",
    "            pincfg = self.soccfg['tprocs'][0]['output_pins'][pin]\n",
    "            outdict[pincfg[1]] |= (1 << pincfg[2])\n",
    "\n",
    "        t_start = t\n",
    "\n",
    "        for outport, out in outdict.items():\n",
    "            self.regwi(rp, r_out, out, f'out = 0b{out:>016b}')\n",
    "            self.seti(outport, rp, r_out, t_start, f'ch =0 out = ${r_out} @t = {t}')\n",
    "            #self.seti(outport, rp, 0, t_end, f'ch =0 out = 0 @t = {t}')\n",
    "\n",
    "\n",
    "    def initialize(self):\n",
    "        cfg=self.cfg   \n",
    "        res_ch = cfg[\"res_ch\"]\n",
    "        \n",
    "        # Convert frequently-used times from us to cycles\n",
    "        readout_length = [self.us2cycles(cfg[\"readout_length\"], ro_ch=ch) for ch in cfg[\"ro_chs\"]]\n",
    "        length = self.us2cycles(cfg[\"pulse1_1\"]/1000, gen_ch=res_ch)\n",
    "        delay = self.us2cycles(cfg['delay']/1000-cfg['pulse1_1']/1000)\n",
    "        tpi2 = self.us2cycles(cfg['pulse1_1']/1000)\n",
    "        tstart = self.us2cycles(cfg['nutation_delay']/1000)\n",
    "\n",
    "        # set the nyquist zone\n",
    "        self.declare_gen(ch=res_ch, nqz=1)\n",
    "        \n",
    "        # configure the readout lengths and downconversion frequencies (ensuring it is an available DAC frequency)\n",
    "        for n, ch in enumerate(cfg[\"ro_chs\"]):\n",
    "            self.declare_readout(ch=ch, length=readout_length[n],\n",
    "                                 freq=cfg[\"freq\"], gen_ch=res_ch)\n",
    "\n",
    "        # convert frequency to DAC frequency (ensuring it is an available ADC frequency)\n",
    "        freq = self.freq2reg(cfg[\"freq\"],gen_ch=res_ch, ro_ch=cfg[\"ro_chs\"][0])\n",
    "\n",
    "        # set our output to be the default pulse register\n",
    "        self.default_pulse_registers(ch=res_ch, style=\"const\", freq=freq)\n",
    "        \n",
    "        self.synci(200)  # give processor some time to configure pulses\n",
    "\n",
    "\n",
    "    def cpmg(self, ph1, ph2, phdel=0, pulses=1, tstart=0):\n",
    "        \"\"\"\n",
    "        Runs a Carr-Purcell pulse sequence with optional nutation pulse\n",
    "        \"\"\"\n",
    "        # Set relevant times\n",
    "        res_ch = self.cfg[\"res_ch\"]\n",
    "        tpi2 = self.cfg[\"pulse1_1\"]/1000\n",
    "        tpi = self.cfg[\"pulse1_2\"]/1000\n",
    "        delay = self.cfg[\"delay\"]/1000\n",
    "        delay_pi2 = delay-tpi2\n",
    "        delay_pi = 2*delay-tpi\n",
    "        nutwidth = self.cfg[\"nutation_length\"]/1000\n",
    "        nutdelay = self.cfg[\"nutation_delay\"]/1000\n",
    "        gain = self.cfg[\"gain\"]\n",
    "        \n",
    "        # We want half the power for our pi/2 pulse, and this achieves that\n",
    "        gain2 = gain if gain<10000 else gain-10000\n",
    "        \n",
    "        # In Loopback mode we want to start readout at the beginning of the pi/2 pulse\n",
    "        # Otherwise we want to delay readout until the echo location\n",
    "        offset = 0 if self.cfg[\"loopback\"] else delay+(2*pulses-1)*delay#+(pulses-1)*(delay_pi)\n",
    "        # Actually set the trigger offset, including empirically-determined delay of 0.25 us\n",
    "        trig_offset = self.us2cycles(0.25+nutwidth+self.cfg[\"h_offset\"]+offset)\n",
    "        \n",
    "        # If the nutation pulse width is greater than the minimum number of cycles, add it in\n",
    "        nut_length = self.us2cycles(nutwidth, gen_ch=res_ch)\n",
    "        if nut_length>2:\n",
    "            self.set_pulse_registers(ch=self.cfg[\"res_ch\"], gain=gain, phase=90, length=nut_length)\n",
    "            self.pulse(ch=self.cfg[\"res_ch\"])\n",
    "        \n",
    "        # Wait the nutation delay time\n",
    "        self.synci(self.us2cycles(nutdelay))\n",
    "        \n",
    "        # Tell the ADC when to trigger readout, based on the trigger offset defined above\n",
    "        # If you uncomment the pins argument, it will also send a pulse on an I/O pin\n",
    "        self.trigger(adcs=self.ro_chs,\n",
    "                    # pins=[0],\n",
    "                    adc_trig_offset=trig_offset)\n",
    "\n",
    "        # pi/2 pulse\n",
    "        self.set_pulse_registers(ch=res_ch, gain=gain2, phase=ph1,\n",
    "                                 length=self.us2cycles(tpi2, gen_ch=res_ch))\n",
    "        self.pulse(ch=res_ch)\n",
    "        \n",
    "        # Delay between pi/2 and pi pulses\n",
    "        self.synci(self.us2cycles(delay_pi2))\n",
    "        \n",
    "        # Add a configurable number of pi pulses, along with delays.\n",
    "        # delay_pi is roughly twice delay_pi2, as the delay between pi pulses should be\n",
    "        for n in np.arange(pulses):\n",
    "            self.set_pulse_registers(ch=res_ch, gain=gain, phase=ph2,\n",
    "                                     length=self.us2cycles(tpi, gen_ch=res_ch))\n",
    "            self.pulse(ch=self.cfg[\"res_ch\"])\n",
    "\n",
    "            self.synci(self.us2cycles(delay_pi))\n",
    "\n",
    "        self.synci(self.us2cycles(delay_pi))\n",
    "        \n",
    "        self.wait_all()\n",
    "        self.sync_all(self.us2cycles(self.cfg[\"period\"]))\n",
    "        \n",
    "\n",
    "    def body(self):\n",
    "        # Start the pin output (to close the switch connecting my board to the cryostat)\n",
    "        # Then wait a short time to make sure it has actually closed before pulsing\n",
    "        self.trigger_no_off(pins=[0])\n",
    "        self.synci(self.us2cycles(0.1))\n",
    "        # Do the pulses\n",
    "        self.cpmg(0, 0, 0, self.cfg[\"pulses\"])"
   ]
  },
  {
   "cell_type": "code",
   "execution_count": 3,
   "id": "34be0521-4030-44a4-b5f0-71eae9d3605c",
   "metadata": {},
   "outputs": [],
   "source": [
    "parameters = {\n",
    "    'res_ch': GEN_CH,\n",
    "    'ro_chs': [RO_CH],\n",
    "    'reps': 1,\n",
    "    'freq': 3902.0,\n",
    "    'delay': 50.0,\n",
    "    'period': 20.0,\n",
    "    'cpmg': 1,\n",
    "    'nutation_delay': 5000.0,\n",
    "    'h_offset': -0.1,\n",
    "    'pulse1_1': 20.0,\n",
    "    'pulse1_2': 20.0,\n",
    "    'readout_length': 0.3,\n",
    "    'gain': 32500,\n",
    "    'pulses': 1,\n",
    "    'nutation_length': 0.0,\n",
    "    'soft_avgs': 100,\n",
    "    'single': False,\n",
    "    'loopback': False\n",
    "}"
   ]
  },
  {
   "cell_type": "code",
   "execution_count": 4,
   "id": "a6f0f75d-5e98-4d08-99d3-e2dfc9702cdb",
   "metadata": {},
   "outputs": [
    {
     "data": {
      "application/vnd.jupyter.widget-view+json": {
       "model_id": "cb493b5783b345c39bb1e957554c96ec",
       "version_major": 2,
       "version_minor": 0
      },
      "text/plain": [
       "  0%|          | 0/100 [00:00<?, ?it/s]"
      ]
     },
     "metadata": {},
     "output_type": "display_data"
    }
   ],
   "source": [
    "prog = CPMGProgram(soc, parameters)\n",
    "iq_list = prog.acquire_decimated(soc, progress=True)"
   ]
  },
  {
   "cell_type": "code",
   "execution_count": 5,
   "id": "859c81f9-1495-4a84-9a95-cfad16391e76",
   "metadata": {},
   "outputs": [
    {
     "data": {
      "image/png": "[encoded data removed]",
      "text/plain": [
       "<Figure size 432x288 with 1 Axes>"
      ]
     },
     "metadata": {
      "needs_background": "light"
     },
     "output_type": "display_data"
    }
   ],
   "source": [
    "# Plot results.\n",
    "plt.figure(1)\n",
    "for ii, iq in enumerate(iq_list):\n",
    "    plt.plot(iq[0], label=\"I value\")\n",
    "    plt.plot(iq[1], label=\"Q value\")\n",
    "    plt.plot(np.abs(iq[0]+1j*iq[1]), label=\"mag\")\n",
    "plt.ylabel(\"a.u.\")\n",
    "plt.xlabel(\"Clock ticks\")\n",
    "plt.title(\"Averages = \" + str(parameters[\"soft_avgs\"]))\n",
    "plt.legend();"
   ]
  },
  {
   "cell_type": "code",
   "execution_count": null,
   "id": "bf2ffa1c-2905-490b-afc2-edf75a82c971",
   "metadata": {},
   "outputs": [],
   "source": []
  }
 ],
 "metadata": {
  "kernelspec": {
   "display_name": "Python 3 (ipykernel)",
   "language": "python",
   "name": "python3"
  },
  "language_info": {
   "codemirror_mode": {
    "name": "ipython",
    "version": 3
   },
   "file_extension": ".py",
   "mimetype": "text/x-python",
   "name": "python",
   "nbconvert_exporter": "python",
   "pygments_lexer": "ipython3",
   "version": "3.10.4"
  }
 },
 "nbformat": 4,
 "nbformat_minor": 5
}
