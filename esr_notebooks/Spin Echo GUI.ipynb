{
 "cells": [
  {
   "cell_type": "markdown",
   "metadata": {},
   "source": [
    "## Initializing the notebook\n",
    "These first few cells must be run first every time you are starting this program for the first time. The first cell imports a bunch of useful functions, and sets up some pretty plots. The second cell starts up a GUI that establishes communications with the lab equipment, sets up the experiment, and runs it.\n",
    "\n",
    "**Note** This notebook is running a Python kernel, which is a dedicated computer process that just runs this stuff. At any time, you can interrupt an operation by going up to the \"Kernel\" menu and clicking Interrupt, or you can completely stop it and restart it by choosing Restart.\n",
    "\n",
    "If you want to switch to a different program that uses any of the lab equipment that this program also uses, you will need to first restart the kernel, thus releasing ownership of those devices (there are other ways to do this as well, but this is the easiest)."
   ]
  },
  {
   "cell_type": "code",
   "execution_count": 1,
   "metadata": {
    "scrolled": true
   },
   "outputs": [
    {
     "name": "stderr",
     "output_type": "stream",
     "text": [
      "/usr/local/share/pynq-venv/lib/python3.10/site-packages/pyvisa_py/tcpip.py:122: UserWarning: TCPIP::hislip resource discovery requires the zeroconf package to be installed... try 'pip install zeroconf'\n",
      "  warnings.warn(\n"
     ]
    },
    {
     "data": {
      "application/javascript": "\ntry {\nrequire(['notebook/js/codecell'], function(codecell) {\n  codecell.CodeCell.options_default.highlight_modes[\n      'magic_text/x-csrc'] = {'reg':[/^%%microblaze/]};\n  Jupyter.notebook.events.one('kernel_ready.Kernel', function(){\n      Jupyter.notebook.get_cells().map(function(cell){\n          if (cell.cell_type == 'code'){ cell.auto_highlight(); } }) ;\n  });\n});\n} catch (e) {};\n"
     },
     "metadata": {},
     "output_type": "display_data"
    },
    {
     "data": {
      "application/javascript": "\ntry {\nrequire(['notebook/js/codecell'], function(codecell) {\n  codecell.CodeCell.options_default.highlight_modes[\n      'magic_text/x-csrc'] = {'reg':[/^%%pybind11/]};\n  Jupyter.notebook.events.one('kernel_ready.Kernel', function(){\n      Jupyter.notebook.get_cells().map(function(cell){\n          if (cell.cell_type == 'code'){ cell.auto_highlight(); } }) ;\n  });\n});\n} catch (e) {};\n"
     },
     "metadata": {},
     "output_type": "display_data"
    },
    {
     "data": {
      "text/plain": [
       "<Figure size 576x360 with 0 Axes>"
      ]
     },
     "metadata": {},
     "output_type": "display_data"
    },
    {
     "data": {
      "text/plain": [
       "<Figure size 576x360 with 0 Axes>"
      ]
     },
     "metadata": {},
     "output_type": "display_data"
    }
   ],
   "source": [
    "%load_ext autoreload\n",
    "%autoreload 2\n",
    "\n",
    "import sys, os\n",
    "sys.path.append('../')\n",
    "\n",
    "# import pyscan as ps\n",
    "# from qick import *\n",
    "from rfsoc2 import *\n",
    "import matplotlib.pyplot as plt\n",
    "import numpy as np\n",
    "from time import sleep\n",
    "from datetime import date, datetime\n",
    "from pathlib import Path\n",
    "from spinecho_gui import *\n",
    "if 'devices' not in globals():\n",
    "    devices = ps.ItemAttribute()\n",
    "    sig = ps.ItemAttribute()\n",
    "    sweep = {}\n",
    "\n",
    "soc = QickSoc()\n",
    "soccfg = soc\n",
    "\n",
    "plt.rc('lines', lw=2)\n",
    "plotfont = {'family': 'serif', 'size': 16}\n",
    "plt.rc('font', **plotfont)\n",
    "plt.rc('mathtext', fontset='cm')\n",
    "\n",
    "wait = 0.3\n",
    "\n",
    "controls, parameters = spinecho_gui(sig, devices, sweep, soc)\n",
    "# from IPython.display import display, HTML\n",
    "# display(HTML(\"<style>.container { width:100% !important; }</style>\"))"
   ]
  },
  {
   "cell_type": "code",
   "execution_count": null,
   "metadata": {},
   "outputs": [],
   "source": [
    "controls"
   ]
  },
  {
   "cell_type": "code",
   "execution_count": null,
   "metadata": {},
   "outputs": [],
   "source": [
    "ps.live_plot2D(sweep['expt'], x_name='t', y_name=parameters['y_name'], data_name='x', transpose=1)"
   ]
  },
  {
   "cell_type": "code",
   "execution_count": null,
   "metadata": {},
   "outputs": [],
   "source": [
    "ps.live_plot1D(sweep['expt'], x_name=parameters['y_name'], data_name='xmean')"
   ]
  }
 ],
 "metadata": {
  "kernelspec": {
   "display_name": "Python 3 (ipykernel)",
   "language": "python",
   "name": "python3"
  },
  "language_info": {
   "codemirror_mode": {
    "name": "ipython",
    "version": 3
   },
   "file_extension": ".py",
   "mimetype": "text/x-python",
   "name": "python",
   "nbconvert_exporter": "python",
   "pygments_lexer": "ipython3",
   "version": "3.10.4"
  },
  "name": "Frequency_Sweep_test.ipynb"
 },
 "nbformat": 4,
 "nbformat_minor": 4
}
