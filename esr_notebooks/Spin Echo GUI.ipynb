{
 "cells": [
  {
   "cell_type": "markdown",
   "metadata": {},
   "source": [
    "# Running a spin echo experiment\n",
    "The first two cells here must be run first, in order, to set up the environment and start talking to the devices. Note that turning off the output also randomizes the phase, unfortunately."
   ]
  },
  {
   "cell_type": "code",
   "execution_count": 1,
   "metadata": {},
   "outputs": [
    {
     "data": {
      "text/plain": [
       "<Figure size 800x500 with 0 Axes>"
      ]
     },
     "metadata": {},
     "output_type": "display_data"
    },
    {
     "data": {
      "text/plain": [
       "<Figure size 800x500 with 0 Axes>"
      ]
     },
     "metadata": {},
     "output_type": "display_data"
    }
   ],
   "source": [
    "%load_ext autoreload\n",
    "%autoreload 2\n",
    "\n",
    "import sys, os\n",
    "sys.path.append('../')\n",
    "\n",
    "import pyscan as ps\n",
    "import matplotlib.pyplot as plt\n",
    "import numpy as np\n",
    "from spinecho_gui import *\n",
    "from spinecho_scripts import *\n",
    "if 'devices' not in globals():\n",
    "    devices = ps.ItemAttribute()\n",
    "    sig = ps.ItemAttribute()\n",
    "    sweep = {}\n",
    "\n",
    "plt.rc('lines', lw=2)\n",
    "plotfont = {'family': 'serif', 'size': 16}\n",
    "plt.rc('font', **plotfont)\n",
    "plt.rc('mathtext', fontset='cm')\n",
    "\n",
    "wait = 0.3\n",
    "\n",
    "controls, parameters = spinecho_gui(sig, devices, sweep)"
   ]
  },
  {
   "cell_type": "code",
   "execution_count": 2,
   "metadata": {},
   "outputs": [
    {
     "data": {
      "application/vnd.jupyter.widget-view+json": {
       "model_id": "ccfaf4592c0d422486016faa1a7a83ea",
       "version_major": 2,
       "version_minor": 0
      },
      "text/plain": [
       "VBox(children=(HBox(children=(Dropdown(description='Scope Addr', index=6, layout=Layout(width='350px'), option…"
      ]
     },
     "execution_count": 2,
     "metadata": {},
     "output_type": "execute_result"
    }
   ],
   "source": [
    "controls"
   ]
  },
  {
   "cell_type": "code",
   "execution_count": 5,
   "metadata": {},
   "outputs": [
    {
     "data": {
      "text/plain": [
       "1000.0"
      ]
     },
     "execution_count": 5,
     "metadata": {},
     "output_type": "execute_result"
    }
   ],
   "source": [
    "devices.fpga.delay2"
   ]
  },
  {
   "cell_type": "markdown",
   "metadata": {},
   "source": [
    "Once you have started a sweep, run the cell below to have a live-updating plot of the results."
   ]
  },
  {
   "cell_type": "code",
   "execution_count": null,
   "metadata": {},
   "outputs": [],
   "source": [
    "ps.live_plot2D(sweep['expt'], x_name='t', y_name=parameters['y_name'], data_name='xsub', transpose=1)"
   ]
  }
 ],
 "metadata": {
  "kernelspec": {
   "display_name": "Python 3 (ipykernel)",
   "language": "python",
   "name": "python3"
  },
  "language_info": {
   "codemirror_mode": {
    "name": "ipython",
    "version": 3
   },
   "file_extension": ".py",
   "mimetype": "text/x-python",
   "name": "python",
   "nbconvert_exporter": "python",
   "pygments_lexer": "ipython3",
   "version": "3.11.2"
  },
  "name": "CC_Control_test.ipynb"
 },
 "nbformat": 4,
 "nbformat_minor": 4
}
