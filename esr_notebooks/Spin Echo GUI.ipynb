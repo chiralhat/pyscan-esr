{
 "cells": [
  {
   "cell_type": "markdown",
   "metadata": {},
   "source": [
    "# Running a spin echo experiment\n",
    "The first two cells here must be run first, in order, to set up the environment and start talking to the devices. Note that turning off the output also randomizes the phase, unfortunately."
   ]
  },
  {
   "cell_type": "code",
   "execution_count": null,
   "metadata": {},
   "outputs": [],
   "source": [
    "%load_ext autoreload\n",
    "%autoreload 2\n",
    "\n",
    "import sys, os\n",
    "sys.path.append('../')\n",
    "\n",
    "import pyscan as ps\n",
    "import matplotlib.pyplot as plt\n",
    "import numpy as np\n",
    "from spinecho_gui import *\n",
    "from spinecho_scripts import *\n",
    "if 'devices' not in globals():\n",
    "    devices = ps.ItemAttribute()\n",
    "    sig = ps.ItemAttribute()\n",
    "    sweep = {}\n",
    "\n",
    "plt.rc('lines', lw=2)\n",
    "plotfont = {'family': 'serif', 'size': 16}\n",
    "plt.rc('font', **plotfont)\n",
    "plt.rc('mathtext', fontset='cm')\n",
    "\n",
    "wait = 0.3\n",
    "\n",
    "controls, parameters = spinecho_gui(sig, devices, sweep)"
   ]
  },
  {
   "cell_type": "markdown",
   "metadata": {},
   "source": [
    "Hole-burning: check to see whether the nutation pulse still goes on Ch B when port A is selected. Could implement it here."
   ]
  },
  {
   "cell_type": "code",
   "execution_count": null,
   "metadata": {},
   "outputs": [],
   "source": [
    "controls"
   ]
  },
  {
   "cell_type": "markdown",
   "metadata": {},
   "source": [
    "Once you have started a sweep, run either cell below to have a live-updating plot of the results. `live_plot2D` will produce a colormap showing the background-subtracted signal as a function of time and the swept variable, and `live_plot1D` will produce a plot showing the integrated signal as a function of time."
   ]
  },
  {
   "cell_type": "code",
   "execution_count": null,
   "metadata": {},
   "outputs": [],
   "source": [
    "ps.live_plot2D(sweep['expt'], x_name='t', y_name=parameters['y_name'], data_name='xsub', transpose=1)"
   ]
  },
  {
   "cell_type": "code",
   "execution_count": null,
   "metadata": {},
   "outputs": [],
   "source": [
    "ps.live_plot1D(sweep['expt'], x_name=parameters['y_name'], data_name='xint')"
   ]
  }
 ],
 "metadata": {
  "kernelspec": {
   "display_name": "Python 3 (ipykernel)",
   "language": "python",
   "name": "python3"
  },
  "language_info": {
   "codemirror_mode": {
    "name": "ipython",
    "version": 3
   },
   "file_extension": ".py",
   "mimetype": "text/x-python",
   "name": "python",
   "nbconvert_exporter": "python",
   "pygments_lexer": "ipython3",
   "version": "3.11.2"
  },
  "name": "CC_Control_test.ipynb"
 },
 "nbformat": 4,
 "nbformat_minor": 4
}
