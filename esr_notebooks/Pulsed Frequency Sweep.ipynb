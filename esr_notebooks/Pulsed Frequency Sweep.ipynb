{
 "cells": [
  {
   "cell_type": "markdown",
   "metadata": {},
   "source": [
    "## Initializing the notebook\n",
    "These first few cells must be run first every time you are starting this program for the first time. The first cell imports a bunch of useful functions, and sets up some pretty plots. The second cell starts up a GUI that establishes communications with the lab equipment, sets up the experiment, and runs it.\n",
    "\n",
    "**Note** This notebook is running a Python kernel, which is a dedicated computer process that just runs this stuff. At any time, you can interrupt an operation by going up to the \"Kernel\" menu and clicking Interrupt, or you can completely stop it and restart it by choosing Restart.\n",
    "\n",
    "If you want to switch to a different program that uses any of the lab equipment that this program also uses, you will need to first restart the kernel, thus releasing ownership of those devices (there are other ways to do this as well, but this is the easiest)."
   ]
  },
  {
   "cell_type": "code",
   "execution_count": null,
   "metadata": {
    "scrolled": true
   },
   "outputs": [],
   "source": [
    "%load_ext autoreload\n",
    "%autoreload 2\n",
    "\n",
    "import sys, os\n",
    "sys.path.append('../')\n",
    "\n",
    "# import pyscan as ps\n",
    "# from qick import *\n",
    "from rfsoc2 import *\n",
    "import matplotlib.pyplot as plt\n",
    "import numpy as np\n",
    "from time import sleep\n",
    "from datetime import date, datetime\n",
    "from pathlib import Path\n",
    "from pulsesweep_gui import *\n",
    "if 'devices' not in globals():\n",
    "    devices = ps.ItemAttribute()\n",
    "    sig = ps.ItemAttribute()\n",
    "    sweep = {}\n",
    "\n",
    "soc = QickSoc()\n",
    "soccfg = soc\n",
    "\n",
    "plt.rc('lines', lw=2)\n",
    "plotfont = {'family': 'serif', 'size': 16}\n",
    "plt.rc('font', **plotfont)\n",
    "plt.rc('mathtext', fontset='cm')\n",
    "\n",
    "wait = 0.3\n",
    "\n",
    "controls, parameters = pulsesweep_gui(sig, devices, sweep, soc)\n",
    "# from IPython.display import display, HTML\n",
    "# display(HTML(\"<style>.container { width:100% !important; }</style>\"))"
   ]
  },
  {
   "cell_type": "code",
   "execution_count": null,
   "metadata": {},
   "outputs": [],
   "source": [
    "controls"
   ]
  },
  {
   "cell_type": "code",
   "execution_count": null,
   "metadata": {},
   "outputs": [],
   "source": [
    "ps.live_plot2D(sweep['expt'], x_name='t', y_name=parameters['y_name'], data_name='x', transpose=1)"
   ]
  },
  {
   "cell_type": "code",
   "execution_count": null,
   "metadata": {},
   "outputs": [],
   "source": [
    "ps.live_plot1D(sweep['expt'], x_name=parameters['y_name'], data_name='Q')"
   ]
  }
 ],
 "metadata": {
  "kernelspec": {
   "display_name": "Python 3 (ipykernel)",
   "language": "python",
   "name": "python3"
  },
  "language_info": {
   "codemirror_mode": {
    "name": "ipython",
    "version": 3
   },
   "file_extension": ".py",
   "mimetype": "text/x-python",
   "name": "python",
   "nbconvert_exporter": "python",
   "pygments_lexer": "ipython3",
   "version": "3.10.4"
  },
  "name": "Frequency_Sweep_test.ipynb"
 },
 "nbformat": 4,
 "nbformat_minor": 4
}
