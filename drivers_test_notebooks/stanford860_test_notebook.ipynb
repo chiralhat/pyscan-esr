{
 "cells": [
  {
   "cell_type": "code",
   "execution_count": 4,
   "metadata": {
    "metadata": {}
   },
   "outputs": [
    {
     "name": "stdout",
     "output_type": "stream",
     "text": [
      "The autoreload extension is already loaded. To reload it, use:\n",
      "  %reload_ext autoreload\n"
     ]
    }
   ],
   "source": [
    "%load_ext autoreload\n",
    "%autoreload 2\n",
    "\n",
    "import pyscan as ps\n",
    "from pyscan.drivers.testing.auto_test_driver import test_driver\n",
    "from pyvisa import ResourceManager, VisaIOError\n",
    "import pytest\n",
    "from time import sleep"
   ]
  },
  {
   "cell_type": "code",
   "execution_count": 5,
   "metadata": {
    "metadata": {}
   },
   "outputs": [
    {
     "name": "stdout",
     "output_type": "stream",
     "text": [
      "GPIB0::4::INSTR Stanford_Research_Systems,SR860,005709,1.55\n",
      "\n"
     ]
    }
   ],
   "source": [
    "rm = ResourceManager()\n",
    "\n",
    "rs = rm.list_resources()\n",
    "# print(rs)\n",
    "for r in rs:\n",
    "    res = rm.open_resource(r)\n",
    "    try:      \n",
    "        name = res.query('*IDN?')\n",
    "        if 'SR860' in name:\n",
    "            print(r, name)\n",
    "            break\n",
    "    except VisaIOError:\n",
    "        pass\n",
    "    res.close()"
   ]
  },
  {
   "cell_type": "code",
   "execution_count": 6,
   "metadata": {
    "metadata": {}
   },
   "outputs": [],
   "source": [
    "srs860 = ps.Stanford860(res)\n",
    "# test_driver(srs860, verbose=False)\n"
   ]
  },
  {
   "cell_type": "code",
   "execution_count": 9,
   "metadata": {},
   "outputs": [
    {
     "name": "stdout",
     "output_type": "stream",
     "text": [
      "7.1917845901e-08\n",
      "-1.0024303521e-07\n",
      "1.0241638648e-07\n",
      "-60.09784317\n"
     ]
    }
   ],
   "source": [
    "# Test read channels\n",
    "\n",
    "for channel in list(range(1, 5)):\n",
    "    print(srs860.read_channel(channel))"
   ]
  },
  {
   "cell_type": "code",
   "execution_count": 13,
   "metadata": {},
   "outputs": [
    {
     "name": "stdout",
     "output_type": "stream",
     "text": [
      "x -1.7907328953e-08\n",
      "y -5.316227103e-08\n",
      "r 4.4353907214e-08\n",
      "theta -50.438606262\n",
      "aux_in_1 -0.00028610229492\n",
      "aux_in_2 -0.00027465820312\n",
      "aux_in_3 0.0003662109375\n",
      "aux_in_4 0.00032043457031\n",
      "x_noise 6.4148309775e-08\n",
      "y_noise 6.8055314273e-08\n",
      "aux_out_1 0.0\n",
      "aux_out_2 0.0\n",
      "phaseamplitude 0.0\n",
      "dc_offset 0.0\n",
      "internal_frequency 0.0\n",
      "external_frequency 100000.0\n"
     ]
    }
   ],
   "source": [
    "# Test read \n",
    "parameters = [\n",
    "    \"x\", \"y\", \"r\", \"theta\", \"aux_in_1\", \"aux_in_2\", \"aux_in_3\", \"aux_in_4\",\n",
    "    \"x_noise\", \"y_noise\", \"aux_out_1\", \"aux_out_2\", \"phase\"\n",
    "    \"amplitude\", \"dc_offset\", \"internal_frequency\", \"external_frequency\"]\n",
    "\n",
    "for param in parameters:\n",
    "    print(param, srs860.read(param))"
   ]
  },
  {
   "cell_type": "code",
   "execution_count": null,
   "metadata": {},
   "outputs": [],
   "source": []
  },
  {
   "cell_type": "code",
   "execution_count": 21,
   "metadata": {},
   "outputs": [
    {
     "name": "stdout",
     "output_type": "stream",
     "text": [
      "[3.4422740214e-08, 3.4422740214e-08]\n",
      "[4.4248018582e-08, 1.5685309052e-07]\n",
      "[4.5967993856e-08, 17.522748947]\n",
      "[4.6782904661e-08, -0.043931813849101886]\n",
      "[6.4062525951e-08, -0.00064086914062]\n",
      "[6.7389088088e-08, 0.00024032592773]\n",
      "[6.5747151723e-08, -0.00011444091797]\n",
      "[6.8521714525e-08, 6.9386949519e-08]\n",
      "[5.3493735663e-08, 7.1962830361e-08]\n",
      "[4.7571194983e-08, 0.0]\n",
      "[3.2804987171e-08, 0.0]\n",
      "[1.4467683052e-08, 0.0]\n",
      "[3.3348472872e-09, 0.0]\n",
      "[-5.9442708533e-09, 0.0]\n",
      "[-2.1408883555e-08, 100000.0]\n",
      "[-4.2581049797e-08, 0.013915268704]\n"
     ]
    },
    {
     "data": {
      "text/plain": [
       "[-6.3223232871e-08, 8.1757001169e-08, -0.021638057567664782]"
      ]
     },
     "execution_count": 21,
     "metadata": {},
     "output_type": "execute_result"
    }
   ],
   "source": [
    "parameters = [\n",
    "    \"x\", \"y\", \"theta\", \"r\", \"aux_in_1\", \"aux_in_2\", \"aux_in_3\", \"aux_in_4\",\n",
    "    \"x_noise\", \"y_noise\", \"aux_out_1\", \"aux_out_2\", \"phase\"\n",
    "    \"amplitude\", \"dc_offset\", \"internal_frequency\", \"external_frequency\"]\n",
    "\n",
    "for param in parameters:\n",
    "    print(srs860.snap('x', param))\n",
    "\n",
    "srs860.snap('x', 'y', 'theta')\n"
   ]
  },
  {
   "cell_type": "code",
   "execution_count": null,
   "metadata": {},
   "outputs": [],
   "source": []
  }
 ],
 "metadata": {
  "kernelspec": {
   "display_name": ".venv",
   "language": "python",
   "name": "python3"
  },
  "language_info": {
   "codemirror_mode": {
    "name": "ipython",
    "version": 3
   },
   "file_extension": ".py",
   "mimetype": "text/x-python",
   "name": "python",
   "nbconvert_exporter": "python",
   "pygments_lexer": "ipython3",
   "version": "3.12.4"
  }
 },
 "nbformat": 4,
 "nbformat_minor": 2
}
