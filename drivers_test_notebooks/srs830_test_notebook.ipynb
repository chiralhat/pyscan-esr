{
 "cells": [
  {
   "cell_type": "code",
   "execution_count": 9,
   "metadata": {
    "metadata": {}
   },
   "outputs": [
    {
     "name": "stdout",
     "output_type": "stream",
     "text": [
      "The autoreload extension is already loaded. To reload it, use:\n",
      "  %reload_ext autoreload\n"
     ]
    }
   ],
   "source": [
    "%load_ext autoreload\n",
    "%autoreload 2\n",
    "\n",
    "import pyscan as ps\n",
    "from pyscan.drivers.testing.auto_test_driver import test_driver\n",
    "from pyvisa import ResourceManager, VisaIOError\n",
    "import pytest\n",
    "from time import sleep"
   ]
  },
  {
   "cell_type": "code",
   "execution_count": 10,
   "metadata": {
    "metadata": {}
   },
   "outputs": [
    {
     "name": "stdout",
     "output_type": "stream",
     "text": [
      "GPIB0::8::INSTR Stanford_Research_Systems,SR830,s/n86813,ver1.07 \n",
      "\n"
     ]
    }
   ],
   "source": [
    "rm = ResourceManager()\n",
    "\n",
    "rs = rm.list_resources()\n",
    "# print(rs)\n",
    "for r in rs:\n",
    "    res = rm.open_resource(r)\n",
    "    try:      \n",
    "        name = res.query('*IDN?')\n",
    "        if 'SR830' in name:\n",
    "            print(r, name)\n",
    "            break\n",
    "    except VisaIOError:\n",
    "        pass\n",
    "    res.close()"
   ]
  },
  {
   "cell_type": "code",
   "execution_count": 11,
   "metadata": {
    "metadata": {}
   },
   "outputs": [
    {
     "data": {
      "text/plain": [
       "'Stanford_Research_Systems,SR830,s/n86813,ver1.07 \\n'"
      ]
     },
     "execution_count": 11,
     "metadata": {},
     "output_type": "execute_result"
    }
   ],
   "source": [
    "name"
   ]
  },
  {
   "cell_type": "code",
   "execution_count": 18,
   "metadata": {
    "metadata": {}
   },
   "outputs": [
    {
     "name": "stdout",
     "output_type": "stream",
     "text": [
      "Blacklisted settings that will not be tested or changed are: \n",
      "[('_amplitude', 0.496), ('_input_configuration', 'A-B'), ('_time_constant', 30)]\n",
      "\n",
      "Beginning tests for:  Stanford830  version  1.0.1\n",
      "\n",
      "7 range properties found and tested out of 25 total settings found.\n",
      "0 values properties found and tested out of 25 total settings found.\n",
      "12 indexed values properties found and tested out of 25 total settings found.\n",
      "2 dict values properties found and tested out of 25 total settings found.\n",
      "3 blacklisted settings not testing (likely due to interdependencies not suitable for automated testing)\n",
      "21 properties tested out of 25 total settings.\n",
      "\n",
      "Restored settings are different for the following:  {('id', 'Stanford_Research_Systems,SR830,s/n86813,ver1.07 ')}\n",
      "\n",
      "\n",
      "\u001b[92m Driver tests passed, instrument: Stanford830 looks ready to go. \u001b[0m\n",
      "The new test log for this driver is:  Passed with stanford830 version v1.0.1 tested on pyscan version v0.7.3 at 2024-09-26 11:19:53\n",
      "\u001b[1;32m Driver test results logged. \u001b[0m\n",
      "Checking driver doc string.\n"
     ]
    },
    {
     "ename": "AssertionError",
     "evalue": "Attribute 'buffer_points' listed in docstring but not the driver.",
     "output_type": "error",
     "traceback": [
      "\u001b[1;31m---------------------------------------------------------------------------\u001b[0m",
      "\u001b[1;31mAssertionError\u001b[0m                            Traceback (most recent call last)",
      "Cell \u001b[1;32mIn[18], line 3\u001b[0m\n\u001b[0;32m      1\u001b[0m srs830 \u001b[39m=\u001b[39m ps\u001b[39m.\u001b[39mStanford830(res)\n\u001b[1;32m----> 3\u001b[0m test_driver(srs830, verbose\u001b[39m=\u001b[39;49m\u001b[39mFalse\u001b[39;49;00m)\n",
      "File \u001b[1;32mc:\\users\\rsbrost\\documents\\pyscan\\pyscan\\drivers\\testing\\auto_test_driver.py:603\u001b[0m, in \u001b[0;36mtest_driver\u001b[1;34m(device, skip_log, expected_attributes, expected_values, verbose)\u001b[0m\n\u001b[0;32m    599\u001b[0m     write_log(device)\n\u001b[0;32m    601\u001b[0m \u001b[39mprint\u001b[39m(\u001b[39m\"\u001b[39m\u001b[39m\\033\u001b[39;00m\u001b[39m[1;32m Driver test results logged. \u001b[39m\u001b[39m\\033\u001b[39;00m\u001b[39m[0m\u001b[39m\u001b[39m\"\u001b[39m)\n\u001b[1;32m--> 603\u001b[0m check_doc_strings(device)\n\u001b[0;32m    605\u001b[0m \u001b[39mprint\u001b[39m(\u001b[39m\"\u001b[39m\u001b[39m\\033\u001b[39;00m\u001b[39m[92m Docstring tests passed and looking good. \u001b[39m\u001b[39m\\033\u001b[39;00m\u001b[39m[0m\u001b[39m\u001b[39m\"\u001b[39m)\n",
      "File \u001b[1;32mc:\\users\\rsbrost\\documents\\pyscan\\pyscan\\drivers\\testing\\auto_test_driver.py:576\u001b[0m, in \u001b[0;36mcheck_doc_strings\u001b[1;34m(test_instrument)\u001b[0m\n\u001b[0;32m    574\u001b[0m \u001b[39m# Check that each attribute and method in the docstring exists in the test_instrument\u001b[39;00m\n\u001b[0;32m    575\u001b[0m \u001b[39mfor\u001b[39;00m attribute \u001b[39min\u001b[39;00m attributes:\n\u001b[1;32m--> 576\u001b[0m     \u001b[39massert\u001b[39;00m \u001b[39mhasattr\u001b[39m(test_instrument, attribute), \u001b[39mf\u001b[39m\u001b[39m\"\u001b[39m\u001b[39mAttribute \u001b[39m\u001b[39m'\u001b[39m\u001b[39m{\u001b[39;00mattribute\u001b[39m}\u001b[39;00m\u001b[39m'\u001b[39m\u001b[39m listed in docstring but not the driver.\u001b[39m\u001b[39m\"\u001b[39m\n\u001b[0;32m    578\u001b[0m \u001b[39mfor\u001b[39;00m method \u001b[39min\u001b[39;00m methods:\n\u001b[0;32m    579\u001b[0m     \u001b[39massert\u001b[39;00m \u001b[39mhasattr\u001b[39m(test_instrument, method), \u001b[39mf\u001b[39m\u001b[39m\"\u001b[39m\u001b[39mMethod \u001b[39m\u001b[39m'\u001b[39m\u001b[39m{\u001b[39;00mmethod\u001b[39m}\u001b[39;00m\u001b[39m'\u001b[39m\u001b[39m listed in docstring but not the driver.\u001b[39m\u001b[39m\"\u001b[39m\n",
      "\u001b[1;31mAssertionError\u001b[0m: Attribute 'buffer_points' listed in docstring but not the driver."
     ]
    }
   ],
   "source": [
    "srs830 = ps.Stanford830(res)\n",
    "\n",
    "test_driver(srs830, verbose=False)"
   ]
  },
  {
   "cell_type": "code",
   "execution_count": null,
   "metadata": {
    "metadata": {}
   },
   "outputs": [
    {
     "name": "stdout",
     "output_type": "stream",
     "text": [
      "Sucessfully failed setting channel 1 to y\n",
      "Sucessfully failed setting channel 2 to x\n",
      "Successfully tested get and set display\n"
     ]
    }
   ],
   "source": [
    "# Test get and set display\n",
    "\n",
    "srs830.set_display(1, 'r', 'aux1') # number, source, ratio\n",
    "source, ratio = srs830.get_display(1)\n",
    "assert source == 'r'\n",
    "assert ratio == 'aux1'\n",
    "\n",
    "\n",
    "srs830.set_display(1, 'x', 'none')\n",
    "source, ratio = srs830.get_display(1)\n",
    "assert source == 'x'\n",
    "assert ratio == 'none'\n",
    "\n",
    "\n",
    "with pytest.raises(AssertionError):\n",
    "    srs830.set_display(1, 'y', 'none')\n",
    "print('Sucessfully failed setting channel 1 to y')\n",
    "    \n",
    "    \n",
    "srs830.set_display(2, 'theta', 'aux3')\n",
    "source, ratio = srs830.get_display(2)\n",
    "assert source == 'theta'\n",
    "assert ratio == 'aux3'\n",
    "\n",
    "\n",
    "srs830.set_display(2, 'y', 'none')\n",
    "source, ratio = srs830.get_display(2)\n",
    "assert source == 'y'\n",
    "assert ratio == 'none'\n",
    "\n",
    "\n",
    "with pytest.raises(AssertionError):\n",
    "    srs830.set_display(2, 'x', 'none')\n",
    "print('Sucessfully failed setting channel 2 to x')\n",
    "\n",
    "print(\"Successfully tested get and set display\")\n"
   ]
  },
  {
   "cell_type": "code",
   "execution_count": null,
   "metadata": {
    "metadata": {}
   },
   "outputs": [
    {
     "name": "stdout",
     "output_type": "stream",
     "text": [
      "['0', '1']\n",
      "['0', '0']\n"
     ]
    }
   ],
   "source": [
    "# Test get and set offset and expand\n",
    "\n",
    "srs830.set_channel_offset_expand(1, 100, 10)\n",
    "print(srs830.get_channel_offset_expand(1))\n",
    "\n",
    "srs830.set_channel_offset_expand(1, 0, 1)\n",
    "print(srs830.get_channel_offset_expand(1))\n"
   ]
  },
  {
   "cell_type": "code",
   "execution_count": null,
   "metadata": {},
   "outputs": [
    {
     "name": "stdout",
     "output_type": "stream",
     "text": [
      "2.18428e-09 2.18428e-09\n",
      "-2.18439e-09 -2.18439e-09\n",
      "2.18428e-09 2.18428e-09\n"
     ]
    }
   ],
   "source": [
    "# Test auto offset\n",
    "# v0 should be some value, v_offset should be close to 0\n",
    "srs830.set_channel_offset_expand(1, 0, 1)\n",
    "v0 = srs830.read('x')\n",
    "srs830.auto_offset('x')\n",
    "v_offset = srs830.read('x')\n",
    "print(v0, v_offset)\n",
    "assert abs(v_offset - 0) < 0.0001\n",
    "\n",
    "\n",
    "srs830.set_channel_offset_expand(2, 0, 1)\n",
    "v0 = srs830.read('y')\n",
    "srs830.auto_offset('y')\n",
    "v_offset = srs830.read('y')\n",
    "print(v0, v_offset)\n",
    "assert abs(v_offset - 0) < 0.0001\n",
    "\n",
    "srs830.set_channel_offset_expand(1, 0, 1)\n",
    "v0 = srs830.read('r')\n",
    "srs830.auto_offset('r')\n",
    "v_offset = srs830.read('r')\n",
    "print(v0, v_offset)\n",
    "assert abs(v_offset - 0) < 0.0001\n",
    "\n",
    "\n",
    "srs830.set_channel_offset_expand(1, 0, 1)\n",
    "srs830.set_display(1, 'x', 'none')\n"
   ]
  },
  {
   "cell_type": "code",
   "execution_count": null,
   "metadata": {},
   "outputs": [
    {
     "name": "stdout",
     "output_type": "stream",
     "text": [
      "0.00466667\n",
      "-0.001\n",
      "0.00166667\n",
      "0.00233333\n"
     ]
    }
   ],
   "source": [
    "# Test read aux inputs\n",
    "# shoudl show some random small value\n",
    "for i in range(1, 5):\n",
    "    aux_input = srs830.read_aux_input(i)\n",
    "    print(aux_input)\n",
    "    assert abs(aux_input - 0) < 0.1"
   ]
  },
  {
   "cell_type": "code",
   "execution_count": null,
   "metadata": {},
   "outputs": [
    {
     "name": "stdout",
     "output_type": "stream",
     "text": [
      "2.18428e-09\n",
      "-2.18439e-09\n",
      "2.18428e-09\n",
      "-2597.219879105803\n"
     ]
    }
   ],
   "source": [
    "# Read x, y, r, theta\n",
    "\n",
    "print(srs830.read('x'))\n",
    "print(srs830.read('y'))\n",
    "print(srs830.read('r'))\n",
    "print(srs830.read('theta'))"
   ]
  },
  {
   "cell_type": "code",
   "execution_count": null,
   "metadata": {},
   "outputs": [
    {
     "name": "stdout",
     "output_type": "stream",
     "text": [
      "2.18439e-09\n",
      "-2.18451e-09\n"
     ]
    }
   ],
   "source": [
    "# Read display\n",
    "\n",
    "for i in range(1, 3):\n",
    "    print(srs830.read_display(i))"
   ]
  },
  {
   "cell_type": "code",
   "execution_count": null,
   "metadata": {},
   "outputs": [
    {
     "name": "stdout",
     "output_type": "stream",
     "text": [
      "[2.18428e-09, -2.18439e-09]\n",
      "[2.18428e-09, 2.18428e-09]\n",
      "[2.18428e-09, -2670.7877221406993]\n",
      "[2.18428e-09, -0.003]\n",
      "[2.18428e-09, -0.00566667]\n",
      "[2.18428e-09, -0.008]\n",
      "[2.18428e-09, -0.00833333]\n",
      "[2.18428e-09, 1000.0]\n",
      "[2.18428e-09, 2.18439e-09]\n",
      "[2.18428e-09, -2.18451e-09]\n"
     ]
    }
   ],
   "source": [
    "# Test snap\n",
    "\n",
    "for source in ['y', 'r', 'theta', 'aux1', 'aux2', 'aux3',\n",
    "                  'aux4', 'frequency', 'display1', 'display2']:\n",
    "    print(srs830.snap('x', source))\n",
    "\n",
    "srs830.snap('x', 'y', 'r', 'theta', 'frequency', 'display1')\n",
    "\n",
    "\n",
    "with pytest.raises(AssertionError):\n",
    "    srs830.snap('x', 'y', 'r', 'theta', 'frequency', 'display1', 'display2')\n",
    "    # snap only accepts 6 entries"
   ]
  },
  {
   "cell_type": "code",
   "execution_count": null,
   "metadata": {},
   "outputs": [
    {
     "name": "stdout",
     "output_type": "stream",
     "text": [
      "Stanford_Research_Systems,SR830,s/n86813,ver1.07 \n"
     ]
    }
   ],
   "source": [
    "# test get ID\n",
    "\n",
    "id = srs830.get_identificaiton_string()\n",
    "assert id == 'Stanford_Research_Systems,SR830,s/n86813,ver1.07 '\n",
    "print(id)"
   ]
  },
  {
   "cell_type": "code",
   "execution_count": null,
   "metadata": {},
   "outputs": [
    {
     "ename": "AttributeError",
     "evalue": "'Stanford830' object has no attribute 'buffer_points'",
     "output_type": "error",
     "traceback": [
      "\u001b[1;31m---------------------------------------------------------------------------\u001b[0m",
      "\u001b[1;31mAttributeError\u001b[0m                            Traceback (most recent call last)",
      "Cell \u001b[1;32mIn[13], line 3\u001b[0m\n\u001b[0;32m      1\u001b[0m \u001b[39m# test buffer_points\u001b[39;00m\n\u001b[1;32m----> 3\u001b[0m srs830\u001b[39m.\u001b[39;49mbuffer_points\n\u001b[0;32m      4\u001b[0m srs830\u001b[39m.\u001b[39mwait_for_trigger()\n\u001b[0;32m      5\u001b[0m srs830\u001b[39m.\u001b[39mset_buffer_mode(\u001b[39m0.25\u001b[39m)\n",
      "\u001b[1;31mAttributeError\u001b[0m: 'Stanford830' object has no attribute 'buffer_points'"
     ]
    }
   ],
   "source": [
    "# test buffer_points\n",
    "\n",
    "srs830.buffer_points\n",
    "srs830.wait_for_trigger()\n",
    "srs830.set_buffer_mode(0.25)\n",
    "srs830.wait_for_trigger()\n",
    "# srs830.start()\n",
    "srs830.trigger()\n",
    "sleep(20)\n",
    "srs830.buffer_points\n"
   ]
  },
  {
   "cell_type": "code",
   "execution_count": null,
   "metadata": {},
   "outputs": [
    {
     "data": {
      "text/plain": [
       "'0\\n'"
      ]
     },
     "execution_count": 91,
     "metadata": {},
     "output_type": "execute_result"
    }
   ],
   "source": [
    "srs830.query('SRAT?')"
   ]
  },
  {
   "cell_type": "code",
   "execution_count": null,
   "metadata": {},
   "outputs": [
    {
     "data": {
      "text/plain": [
       "0.0625"
      ]
     },
     "execution_count": 92,
     "metadata": {},
     "output_type": "execute_result"
    }
   ],
   "source": [
    "srs830.sample_rate"
   ]
  },
  {
   "cell_type": "code",
   "execution_count": null,
   "metadata": {},
   "outputs": [],
   "source": []
  }
 ],
 "metadata": {
  "kernelspec": {
   "display_name": "rsbrostenv",
   "language": "python",
   "name": "python3"
  },
  "language_info": {
   "codemirror_mode": {
    "name": "ipython",
    "version": 3
   },
   "file_extension": ".py",
   "mimetype": "text/x-python",
   "name": "python",
   "nbconvert_exporter": "python",
   "pygments_lexer": "ipython3",
   "version": "3.12.2"
  }
 },
 "nbformat": 4,
 "nbformat_minor": 2
}
