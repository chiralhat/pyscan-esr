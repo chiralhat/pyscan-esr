{
 "cells": [
  {
   "cell_type": "code",
   "execution_count": 15,
   "metadata": {
    "metadata": {}
   },
   "outputs": [
    {
     "name": "stdout",
     "output_type": "stream",
     "text": [
      "The autoreload extension is already loaded. To reload it, use:\n",
      "  %reload_ext autoreload\n"
     ]
    }
   ],
   "source": [
    "%load_ext autoreload\n",
    "%autoreload 2\n",
    "\n",
    "import pyscan as ps\n",
    "from pyscan.drivers.testing.auto_test_driver import test_driver\n",
    "from pyvisa import ResourceManager, VisaIOError\n",
    "import pytest"
   ]
  },
  {
   "cell_type": "code",
   "execution_count": 2,
   "metadata": {
    "metadata": {}
   },
   "outputs": [
    {
     "name": "stdout",
     "output_type": "stream",
     "text": [
      "GPIB0::8::INSTR Stanford_Research_Systems,SR830,s/n86813,ver1.07 \n",
      "\n"
     ]
    }
   ],
   "source": [
    "rm = ResourceManager()\n",
    "\n",
    "rs = rm.list_resources()\n",
    "# print(rs)\n",
    "for r in rs:\n",
    "    res = rm.open_resource(r)\n",
    "    try:      \n",
    "        name = res.query('*IDN?')\n",
    "        if 'SR830' in name:\n",
    "            print(r, name)\n",
    "            break\n",
    "    except VisaIOError:\n",
    "        pass\n",
    "    res.close()"
   ]
  },
  {
   "cell_type": "code",
   "execution_count": 4,
   "metadata": {
    "metadata": {}
   },
   "outputs": [
    {
     "data": {
      "text/plain": [
       "'Stanford_Research_Systems,SR830,s/n86813,ver1.07 \\n'"
      ]
     },
     "execution_count": 4,
     "metadata": {},
     "output_type": "execute_result"
    }
   ],
   "source": [
    "name"
   ]
  },
  {
   "cell_type": "code",
   "execution_count": 5,
   "metadata": {
    "metadata": {}
   },
   "outputs": [
    {
     "name": "stdout",
     "output_type": "stream",
     "text": [
      "dict_keys(['instrument', '_driver_class', 'debug', '_instrument_driver_version', '_version', 'black_list_for_testing', '_id_settings', '_phase_settings', '_reference_source_settings', '_frequency_settings', '_reference_slope_settings', '_harmonic_settings', '_amplitude_settings', '_input_configuration_settings', '_input_ground_settings', '_input_coupling_settings', '_input_line_filter_settings', '_sensitivity_settings', '_reserve_mode_settings', '_time_constant_settings', '_filter_slope_settings', '_synchronous_filter_settings', '_display1_output_source_settings', '_display2_output_source_settings', '_auxillary_voltage1_settings', '_auxillary_voltage2_settings', '_auxillary_voltage3_settings', '_auxillary_voltage4_settings', '_sample_rate_settings', '_end_buffer_mode_settings', '_trigger_mode_settings', '_id', '_phase', '_reference_source', '_frequency', '_reference_slope', '_harmonic', '_amplitude', '_input_configuration', '_input_ground', '_input_coupling', '_input_line_filter', '_sensitivity', '_reserve_mode', '_time_constant', '_filter_slope', '_synchronous_filter', '_display1_output_source', '_display2_output_source', '_auxillary_voltage1', '_auxillary_voltage2', '_auxillary_voltage3', '_auxillary_voltage4', '_sample_rate', '_end_buffer_mode', '_trigger_mode'])\n",
      "Initial state for the Stanford830 was: [('id', 'Stanford_Research_Systems,SR830,s/n86813,ver1.07 '), ('phase', 0.0), ('reference_source', 'external'), ('frequency', 1000.0), ('reference_slope', 'sine zero'), ('harmonic', 1), ('amplitude', 0.496), ('input_configuration', 'A-B'), ('input_ground', 'AC'), ('input_coupling', 'AC'), ('input_line_filter', 'none'), ('sensitivity', 2e-09), ('reserve_mode', 'high'), ('time_constant', 30), ('filter_slope', 6), ('synchronous_filter', 'off'), ('display1_output_source', 'x'), ('display2_output_source', 'y'), ('auxillary_voltage1', -10.5), ('auxillary_voltage2', -10.5), ('auxillary_voltage3', -10.5), ('auxillary_voltage4', -10.5), ('sample_rate', 0.0625), ('end_buffer_mode', 'one shot'), ('trigger_mode', 'off')]\n",
      "The new test log for this driver is:  Failed with stanford830 version v1.0.1 tested on pyscan version v0.5.0 at 2024-08-23 15:11:37\n"
     ]
    },
    {
     "ename": "AssertionError",
     "evalue": "no valid type present in setting: _id_settings. Must be one of ['values', 'range', 'ranges', 'indexed_values', 'dict_values'].",
     "output_type": "error",
     "traceback": [
      "\u001b[1;31m---------------------------------------------------------------------------\u001b[0m",
      "\u001b[1;31mAssertionError\u001b[0m                            Traceback (most recent call last)",
      "Cell \u001b[1;32mIn[5], line 3\u001b[0m\n\u001b[0;32m      1\u001b[0m srs830 \u001b[38;5;241m=\u001b[39m ps\u001b[38;5;241m.\u001b[39mStanford830(res)\n\u001b[1;32m----> 3\u001b[0m \u001b[43mtest_driver\u001b[49m\u001b[43m(\u001b[49m\u001b[43msrs830\u001b[49m\u001b[43m)\u001b[49m\n",
      "File \u001b[1;32mc:\\snl\\users\\jjmah\\pyscan\\pyscan\\drivers\\testing\\auto_test_driver.py:526\u001b[0m, in \u001b[0;36mtest_driver\u001b[1;34m(device, skip_log, expected_attributes, expected_values)\u001b[0m\n\u001b[0;32m    523\u001b[0m     write_log(device, exception)\n\u001b[0;32m    525\u001b[0m \u001b[38;5;28;01mif\u001b[39;00m exception \u001b[38;5;129;01mis\u001b[39;00m \u001b[38;5;129;01mnot\u001b[39;00m \u001b[38;5;28;01mNone\u001b[39;00m:\n\u001b[1;32m--> 526\u001b[0m     \u001b[38;5;28;01massert\u001b[39;00m \u001b[38;5;28;01mFalse\u001b[39;00m, exception\n\u001b[0;32m    527\u001b[0m \u001b[38;5;28;01melse\u001b[39;00m:\n\u001b[0;32m    528\u001b[0m     \u001b[38;5;28mprint\u001b[39m(\u001b[38;5;124m\"\u001b[39m\u001b[38;5;130;01m\\033\u001b[39;00m\u001b[38;5;124m[1;32mTests passed, instrument \u001b[39m\u001b[38;5;132;01m{}\u001b[39;00m\u001b[38;5;124m looks ready to go.\u001b[39m\u001b[38;5;130;01m\\033\u001b[39;00m\u001b[38;5;124m[0m\u001b[39m\u001b[38;5;124m\"\u001b[39m\u001b[38;5;241m.\u001b[39mformat(device\u001b[38;5;241m.\u001b[39m\u001b[38;5;18m__class__\u001b[39m\u001b[38;5;241m.\u001b[39m\u001b[38;5;18m__name__\u001b[39m))\n",
      "\u001b[1;31mAssertionError\u001b[0m: no valid type present in setting: _id_settings. Must be one of ['values', 'range', 'ranges', 'indexed_values', 'dict_values']."
     ]
    }
   ],
   "source": [
    "srs830 = ps.Stanford830(res)\n",
    "\n",
    "test_driver(srs830)"
   ]
  },
  {
   "cell_type": "code",
   "execution_count": 17,
   "metadata": {
    "metadata": {}
   },
   "outputs": [
    {
     "name": "stdout",
     "output_type": "stream",
     "text": [
      "Sucessfully failed setting channel 1 to y\n",
      "Sucessfully failed setting channel 2 to x\n",
      "Successfully tested get and set display\n"
     ]
    }
   ],
   "source": [
    "# Test get and set display\n",
    "\n",
    "srs830.set_display(1, 'r', 'aux1') # number, source, ratio\n",
    "source, ratio = srs830.get_display(1)\n",
    "assert source == 'r'\n",
    "assert ratio == 'aux1'\n",
    "\n",
    "\n",
    "srs830.set_display(1, 'x', 'none')\n",
    "source, ratio = srs830.get_display(1)\n",
    "assert source == 'x'\n",
    "assert ratio == 'none'\n",
    "\n",
    "\n",
    "with pytest.raises(AssertionError):\n",
    "    srs830.set_display(1, 'y', 'none')\n",
    "print('Sucessfully failed setting channel 1 to y')\n",
    "    \n",
    "    \n",
    "srs830.set_display(2, 'theta', 'aux3')\n",
    "source, ratio = srs830.get_display(2)\n",
    "assert source == 'theta'\n",
    "assert ratio == 'aux3'\n",
    "\n",
    "\n",
    "srs830.set_display(2, 'y', 'none')\n",
    "source, ratio = srs830.get_display(2)\n",
    "assert source == 'y'\n",
    "assert ratio == 'none'\n",
    "\n",
    "\n",
    "with pytest.raises(AssertionError):\n",
    "    srs830.set_display(2, 'x', 'none')\n",
    "print('Sucessfully failed setting channel 2 to x')\n",
    "\n",
    "print(\"Successfully tested get and set display\")\n"
   ]
  },
  {
   "cell_type": "code",
   "execution_count": 7,
   "metadata": {
    "metadata": {}
   },
   "outputs": [
    {
     "name": "stdout",
     "output_type": "stream",
     "text": [
      "['0', '1']\n",
      "['0', '0']\n"
     ]
    }
   ],
   "source": [
    "# Test get and set offset and expand\n",
    "\n",
    "srs830.set_channel_offset_expand(1, 100, 10)\n",
    "print(srs830.get_channel_offset_expand(1))\n",
    "\n",
    "srs830.set_channel_offset_expand(1, 0, 1)\n",
    "print(srs830.get_channel_offset_expand(1))\n"
   ]
  },
  {
   "cell_type": "code",
   "execution_count": 31,
   "metadata": {},
   "outputs": [
    {
     "name": "stdout",
     "output_type": "stream",
     "text": [
      "2.18428e-09 2.18428e-09\n",
      "-2.18439e-09 -2.18439e-09\n",
      "2.18428e-09 2.18428e-09\n"
     ]
    }
   ],
   "source": [
    "# Test auto offset\n",
    "# v0 should be some value, v_offset should be close to 0\n",
    "srs830.set_channel_offset_expand(1, 0, 1)\n",
    "v0 = srs830.read('x')\n",
    "srs830.auto_offset('x')\n",
    "v_offset = srs830.read('x')\n",
    "print(v0, v_offset)\n",
    "assert abs(v_offset - 0) < 0.0001\n",
    "\n",
    "\n",
    "srs830.set_channel_offset_expand(2, 0, 1)\n",
    "v0 = srs830.read('y')\n",
    "srs830.auto_offset('y')\n",
    "v_offset = srs830.read('y')\n",
    "print(v0, v_offset)\n",
    "assert abs(v_offset - 0) < 0.0001\n",
    "\n",
    "srs830.set_channel_offset_expand(1, 0, 1)\n",
    "v0 = srs830.read('r')\n",
    "srs830.auto_offset('r')\n",
    "v_offset = srs830.read('r')\n",
    "print(v0, v_offset)\n",
    "assert abs(v_offset - 0) < 0.0001\n",
    "\n",
    "\n",
    "srs830.set_channel_offset_expand(1, 0, 1)\n",
    "srs830.set_display(1, 'x', 'none')\n"
   ]
  },
  {
   "cell_type": "code",
   "execution_count": 34,
   "metadata": {},
   "outputs": [
    {
     "name": "stdout",
     "output_type": "stream",
     "text": [
      "0.00166667\n",
      "0.004\n",
      "0.001\n",
      "-0.0176667\n"
     ]
    }
   ],
   "source": [
    "# Test read aux inputs\n",
    "# shoudl show some random small value\n",
    "for i in range(1, 5):\n",
    "    aux_input = srs830.read_aux_input(i)\n",
    "    print(aux_input)\n",
    "    assert abs(aux_input - 0) < 0.1"
   ]
  },
  {
   "cell_type": "code",
   "execution_count": 10,
   "metadata": {},
   "outputs": [
    {
     "name": "stdout",
     "output_type": "stream",
     "text": [
      "2.18428e-09\n",
      "-2.18439e-09\n",
      "2.18428e-09\n",
      "-2656.6929484751354\n"
     ]
    }
   ],
   "source": [
    "# Read x, y, r, theta\n",
    "\n",
    "print(srs830.read('x'))\n",
    "print(srs830.read('y'))\n",
    "print(srs830.read('r'))\n",
    "print(srs830.read('theta'))"
   ]
  },
  {
   "cell_type": "code",
   "execution_count": 35,
   "metadata": {},
   "outputs": [
    {
     "name": "stdout",
     "output_type": "stream",
     "text": [
      "2.18439e-09\n",
      "-2.18451e-09\n"
     ]
    }
   ],
   "source": [
    "# Read display\n",
    "\n",
    "for i in range(1, 3):\n",
    "    print(srs830.read_display(i))"
   ]
  },
  {
   "cell_type": "code",
   "execution_count": 39,
   "metadata": {},
   "outputs": [
    {
     "name": "stdout",
     "output_type": "stream",
     "text": [
      "[2.18428e-09, -2.18439e-09]\n",
      "[2.18428e-09, 2.18428e-09]\n",
      "[2.18428e-09, -2638.129100232685]\n",
      "[2.18428e-09, 0.002]\n",
      "[2.18428e-09, 0.001]\n",
      "[2.18428e-09, 0.00166667]\n",
      "[2.18428e-09, 0.0116667]\n",
      "[2.18428e-09, 1000.0]\n",
      "[2.18428e-09, 2.18439e-09]\n",
      "[2.18428e-09, -2.18451e-09]\n"
     ]
    }
   ],
   "source": [
    "# Test snap\n",
    "\n",
    "for source in ['y', 'r', 'theta', 'aux1', 'aux2', 'aux3',\n",
    "                  'aux4', 'frequency', 'display1', 'display2']:\n",
    "    print(srs830.snap('x', source))\n",
    "\n",
    "srs830.snap('x', 'y', 'r', 'theta', 'frequency', 'display1')\n",
    "\n",
    "\n",
    "with pytest.raises(AssertionError):\n",
    "    srs830.snap('x', 'y', 'r', 'theta', 'frequency', 'display1', 'display2')\n",
    "    # snap only accepts 6 entries"
   ]
  },
  {
   "cell_type": "code",
   "execution_count": 14,
   "metadata": {},
   "outputs": [
    {
     "name": "stdout",
     "output_type": "stream",
     "text": [
      "Stanford_Research_Systems,SR830,s/n86813,ver1.07 \n"
     ]
    }
   ],
   "source": [
    "# test get ID\n",
    "\n",
    "id = srs830.get_identificaiton_string()\n",
    "assert id == 'Stanford_Research_Systems,SR830,s/n86813,ver1.07 '\n",
    "print(id)"
   ]
  },
  {
   "cell_type": "code",
   "execution_count": 95,
   "metadata": {},
   "outputs": [
    {
     "data": {
      "text/plain": [
       "5"
      ]
     },
     "execution_count": 95,
     "metadata": {},
     "output_type": "execute_result"
    }
   ],
   "source": [
    "# test buffer_points\n",
    "\n",
    "srs830.buffer_points\n",
    "srs830.wait_for_trigger()\n",
    "srs830.set_buffer_mode(0.25)\n",
    "srs830.wait_for_trigger()\n",
    "# srs830.start()\n",
    "srs830.trigger()\n",
    "sleep(20)\n",
    "srs830.buffer_points\n"
   ]
  },
  {
   "cell_type": "code",
   "execution_count": 91,
   "metadata": {},
   "outputs": [
    {
     "data": {
      "text/plain": [
       "'0\\n'"
      ]
     },
     "execution_count": 91,
     "metadata": {},
     "output_type": "execute_result"
    }
   ],
   "source": [
    "srs830.query('SRAT?')"
   ]
  },
  {
   "cell_type": "code",
   "execution_count": 92,
   "metadata": {},
   "outputs": [
    {
     "data": {
      "text/plain": [
       "0.0625"
      ]
     },
     "execution_count": 92,
     "metadata": {},
     "output_type": "execute_result"
    }
   ],
   "source": [
    "srs830.sample_rate"
   ]
  },
  {
   "cell_type": "code",
   "execution_count": null,
   "metadata": {},
   "outputs": [],
   "source": []
  }
 ],
 "metadata": {
  "kernelspec": {
   "display_name": "pyscan-jm",
   "language": "python",
   "name": "pyscan-jm"
  },
  "language_info": {
   "codemirror_mode": {
    "name": "ipython",
    "version": 3
   },
   "file_extension": ".py",
   "mimetype": "text/x-python",
   "name": "python",
   "nbconvert_exporter": "python",
   "pygments_lexer": "ipython3",
   "version": "3.11.9"
  }
 },
 "nbformat": 4,
 "nbformat_minor": 2
}
