{
 "cells": [
  {
   "cell_type": "code",
   "execution_count": 1,
   "metadata": {},
   "outputs": [
    {
     "name": "stdout",
     "output_type": "stream",
     "text": [
      "Could not load Keysight SD1\n",
      "Could not load Keysight SD1\n",
      "pylablib not found, AttocubeANC350 not loaded\n",
      "Basler Camera software not found, BaserCamera not loaded\n",
      "Helios Camera not installed\n",
      "msl not installed, Thorlabs BSC203 driver not loaded\n",
      "seabreeze module not found, Ocean Optics not imported\n",
      "Failed to load spinapi library.\n",
      "spinapi is not installed, PulseBlaster driver not loaded.\n",
      "Thorlabs Kinesis not found, ThorlabsBSC203 not loaded\n",
      "Thorlabs Kinesis not found, ThorlabsBPC303 not loaded\n",
      "Thorlabs Kinesis not found, ThorlabsMFF101 not loaded\n"
     ]
    }
   ],
   "source": [
    "%load_ext autoreload\n",
    "%autoreload 2\n",
    "\n",
    "import pyscan as ps\n",
    "from pyscan.drivers.testing.auto_test_driver import test_driver\n",
    "from pyvisa import ResourceManager, VisaIOError"
   ]
  },
  {
   "cell_type": "code",
   "execution_count": 3,
   "metadata": {},
   "outputs": [
    {
     "name": "stdout",
     "output_type": "stream",
     "text": [
      "GPIB0::5::INSTR Stanford_Research_Systems,SR830,s/n86813,ver1.07 \n",
      "\n"
     ]
    }
   ],
   "source": [
    "rm = ResourceManager()\n",
    "\n",
    "rs = rm.list_resources()\n",
    "# print(rs)\n",
    "for r in rs:\n",
    "    res = rm.open_resource(r)\n",
    "    try:      \n",
    "        name = res.query('*IDN?')\n",
    "        if 'SR830' in name:\n",
    "            print(r, name)\n",
    "            break\n",
    "    except VisaIOError:\n",
    "        pass\n",
    "    res.close()"
   ]
  },
  {
   "cell_type": "code",
   "execution_count": 6,
   "metadata": {},
   "outputs": [
    {
     "name": "stdout",
     "output_type": "stream",
     "text": [
      "Initial state for the Stanford830 was: [('phase', 180.0), ('reference_source', 'external'), ('frequency', 102000.0), ('reference_slope', 'sine zero'), ('harmonic', 1), ('amplitude', 4.996), ('input_configuration', 'A-B'), ('input_ground', 'AC'), ('input_coupling', 'AC'), ('input_line_filter', 'none'), ('sensitivity', 2e-09), ('reserve_mode', 'high'), ('time_constant', 30), ('filter_slope', 6), ('synchronous_filter', 'off'), ('display1_output_source', 'x'), ('display2_output_source', 'y'), ('auxillary_voltage1', -10.5), ('auxillary_voltage2', -10.5), ('auxillary_voltage3', -10.5), ('auxillary_voltage4', -10.5), ('sample_rate', 0.0625), ('end_buffer_mode', 'one shot'), ('trigger_mode', 'off'), ('local_remote_control', 'remote'), ('gpib_overrided_state', 1), ('power_on_status_clear', 'on')]\n",
      "These blacklisted settings and their corresponding values were not reset:  [('_amplitude', 4.996), ('_input_configuration', 'A-B'), ('_time_constant', 30)]\n",
      "Reset state for the Stanford830 was: [('phase', 180.0), ('reference_source', 'external'), ('frequency', 102000.0), ('reference_slope', 'sine zero'), ('harmonic', 1), ('amplitude', 4.996), ('input_configuration', 'A-B'), ('input_ground', 'AC'), ('input_coupling', 'AC'), ('input_line_filter', 'none'), ('sensitivity', 2e-09), ('reserve_mode', 'high'), ('time_constant', 30), ('filter_slope', 6), ('synchronous_filter', 'off'), ('display1_output_source', 'x'), ('display2_output_source', 'y'), ('auxillary_voltage1', -10.5), ('auxillary_voltage2', -10.5), ('auxillary_voltage3', -10.5), ('auxillary_voltage4', -10.5), ('sample_rate', 0.0625), ('end_buffer_mode', 'one shot'), ('trigger_mode', 'off'), ('local_remote_control', 'remote'), ('gpib_overrided_state', 1), ('power_on_status_clear', 'on')]\n",
      "Beginning tests for:  Stanford830\n",
      "off\n",
      "on\n",
      "0\n",
      "1\n",
      "0\n",
      "1\n",
      "off\n",
      "on\n",
      "0\n",
      "1\n",
      "0\n",
      "1\n"
     ]
    },
    {
     "ename": "AttributeError",
     "evalue": "'dict' object has no attribute 'index'",
     "output_type": "error",
     "traceback": [
      "\u001b[1;31m---------------------------------------------------------------------------\u001b[0m",
      "\u001b[1;31mAttributeError\u001b[0m                            Traceback (most recent call last)",
      "Cell \u001b[1;32mIn[6], line 3\u001b[0m\n\u001b[0;32m      1\u001b[0m srs830 \u001b[38;5;241m=\u001b[39m ps\u001b[38;5;241m.\u001b[39mStanford830(res)\n\u001b[1;32m----> 3\u001b[0m test_driver(srs830)\n",
      "File \u001b[1;32mc:\\snl\\pyscan\\pyscan\\drivers\\testing\\auto_test_driver.py:350\u001b[0m, in \u001b[0;36mtest_driver\u001b[1;34m(device, expected_attributes, expected_values)\u001b[0m\n\u001b[0;32m    347\u001b[0m     \u001b[38;5;28;01mif\u001b[39;00m expected_values \u001b[38;5;129;01mis\u001b[39;00m \u001b[38;5;129;01mnot\u001b[39;00m \u001b[38;5;28;01mNone\u001b[39;00m:\n\u001b[0;32m    348\u001b[0m         check_attribute_values(device, expected_attributes, expected_values)\n\u001b[1;32m--> 350\u001b[0m check_properties(device)\n\u001b[0;32m    352\u001b[0m \u001b[38;5;28mprint\u001b[39m(\u001b[38;5;124m\"\u001b[39m\u001b[38;5;124mTests passed, instrument \u001b[39m\u001b[38;5;132;01m{}\u001b[39;00m\u001b[38;5;124m should be ready to go.\u001b[39m\u001b[38;5;124m\"\u001b[39m\u001b[38;5;241m.\u001b[39mformat(device\u001b[38;5;241m.\u001b[39m\u001b[38;5;18m__class__\u001b[39m\u001b[38;5;241m.\u001b[39m\u001b[38;5;18m__name__\u001b[39m))\n",
      "File \u001b[1;32mc:\\snl\\pyscan\\pyscan\\drivers\\testing\\auto_test_driver.py:309\u001b[0m, in \u001b[0;36mcheck_properties\u001b[1;34m(test_instrument)\u001b[0m\n\u001b[0;32m    307\u001b[0m     idx_vals_counter \u001b[38;5;241m+\u001b[39m\u001b[38;5;241m=\u001b[39m \u001b[38;5;241m1\u001b[39m\n\u001b[0;32m    308\u001b[0m     \u001b[38;5;66;03m# idx_vals_idx.append(idx_vals_counter)\u001b[39;00m\n\u001b[1;32m--> 309\u001b[0m     check_indexed_property(test_instrument, name)\n\u001b[0;32m    310\u001b[0m \u001b[38;5;28;01melif\u001b[39;00m \u001b[38;5;124m'\u001b[39m\u001b[38;5;124mdict_values\u001b[39m\u001b[38;5;124m'\u001b[39m \u001b[38;5;129;01min\u001b[39;00m keys:\n\u001b[0;32m    311\u001b[0m     dict_vals_counter \u001b[38;5;241m+\u001b[39m\u001b[38;5;241m=\u001b[39m \u001b[38;5;241m1\u001b[39m\n",
      "File \u001b[1;32mc:\\snl\\pyscan\\pyscan\\drivers\\testing\\auto_test_driver.py:219\u001b[0m, in \u001b[0;36mcheck_indexed_property\u001b[1;34m(device, key)\u001b[0m\n\u001b[0;32m    216\u001b[0m name \u001b[38;5;241m=\u001b[39m device[key][\u001b[38;5;124m'\u001b[39m\u001b[38;5;124mname\u001b[39m\u001b[38;5;124m'\u001b[39m]\n\u001b[0;32m    218\u001b[0m \u001b[38;5;66;03m# reset value to baseline for consistency between tests\u001b[39;00m\n\u001b[1;32m--> 219\u001b[0m device[name] \u001b[38;5;241m=\u001b[39m device[key][\u001b[38;5;124m'\u001b[39m\u001b[38;5;124mindexed_values\u001b[39m\u001b[38;5;124m'\u001b[39m][\u001b[38;5;241m0\u001b[39m]\n\u001b[0;32m    221\u001b[0m \u001b[38;5;28;01mfor\u001b[39;00m item \u001b[38;5;129;01min\u001b[39;00m BAD_INPUTS:\n\u001b[0;32m    222\u001b[0m     \u001b[38;5;28;01mif\u001b[39;00m item \u001b[38;5;129;01mnot\u001b[39;00m \u001b[38;5;129;01min\u001b[39;00m device[key][\u001b[38;5;124m'\u001b[39m\u001b[38;5;124mindexed_values\u001b[39m\u001b[38;5;124m'\u001b[39m]:\n",
      "File \u001b[1;32mc:\\snl\\pyscan\\pyscan\\drivers\\instrument_driver.py:117\u001b[0m, in \u001b[0;36mInstrumentDriver.add_device_property.<locals>.<lambda>\u001b[1;34m(obj, new_value)\u001b[0m\n\u001b[0;32m    110\u001b[0m     \u001b[38;5;28;01massert\u001b[39;00m \u001b[38;5;28;01mFalse\u001b[39;00m, \u001b[38;5;124m\"\u001b[39m\u001b[38;5;124mkey used but not allowed\u001b[39m\u001b[38;5;124m\"\u001b[39m\n\u001b[0;32m    112\u001b[0m doc_string \u001b[38;5;241m=\u001b[39m \u001b[38;5;124m\"\u001b[39m\u001b[38;5;132;01m{}\u001b[39;00m\u001b[38;5;124m : \u001b[39m\u001b[38;5;132;01m{}\u001b[39;00m\u001b[38;5;130;01m\\n\u001b[39;00m\u001b[38;5;124m \u001b[39m\u001b[38;5;132;01m{}\u001b[39;00m\u001b[38;5;124m: \u001b[39m\u001b[38;5;132;01m{}\u001b[39;00m\u001b[38;5;124m\"\u001b[39m\u001b[38;5;241m.\u001b[39mformat(settings[\u001b[38;5;124m'\u001b[39m\u001b[38;5;124mname\u001b[39m\u001b[38;5;124m'\u001b[39m], settings[\u001b[38;5;124m'\u001b[39m\u001b[38;5;124mreturn_type\u001b[39m\u001b[38;5;124m'\u001b[39m]\u001b[38;5;241m.\u001b[39m\u001b[38;5;18m__name__\u001b[39m,\n\u001b[0;32m    113\u001b[0m                                        prop_type, settings[prop_type])\n\u001b[0;32m    115\u001b[0m property_definition \u001b[38;5;241m=\u001b[39m \u001b[38;5;28mproperty\u001b[39m(\n\u001b[0;32m    116\u001b[0m     fget\u001b[38;5;241m=\u001b[39m\u001b[38;5;28;01mlambda\u001b[39;00m obj: \u001b[38;5;28mself\u001b[39m\u001b[38;5;241m.\u001b[39mget_instrument_property(obj, settings),\n\u001b[1;32m--> 117\u001b[0m     fset\u001b[38;5;241m=\u001b[39m\u001b[38;5;28;01mlambda\u001b[39;00m obj, new_value: set_function(obj, new_value, settings),\n\u001b[0;32m    118\u001b[0m     doc\u001b[38;5;241m=\u001b[39mdoc_string)\n\u001b[0;32m    120\u001b[0m \u001b[38;5;28msetattr\u001b[39m(\u001b[38;5;28mself\u001b[39m\u001b[38;5;241m.\u001b[39m\u001b[38;5;18m__class__\u001b[39m, settings[\u001b[38;5;124m'\u001b[39m\u001b[38;5;124mname\u001b[39m\u001b[38;5;124m'\u001b[39m], property_definition)\n",
      "File \u001b[1;32mc:\\snl\\pyscan\\pyscan\\drivers\\instrument_driver.py:264\u001b[0m, in \u001b[0;36mInstrumentDriver.set_indexed_values_property\u001b[1;34m(self, obj, new_value, settings)\u001b[0m\n\u001b[0;32m    261\u001b[0m     \u001b[38;5;28;01massert\u001b[39;00m \u001b[38;5;28;01mFalse\u001b[39;00m\n\u001b[0;32m    263\u001b[0m \u001b[38;5;28;01mif\u001b[39;00m new_value \u001b[38;5;129;01min\u001b[39;00m values:\n\u001b[1;32m--> 264\u001b[0m     index \u001b[38;5;241m=\u001b[39m values\u001b[38;5;241m.\u001b[39mindex(new_value)\n\u001b[0;32m    265\u001b[0m     \u001b[38;5;28;01mif\u001b[39;00m \u001b[38;5;129;01mnot\u001b[39;00m \u001b[38;5;28mself\u001b[39m\u001b[38;5;241m.\u001b[39mdebug:\n\u001b[0;32m    267\u001b[0m         obj\u001b[38;5;241m.\u001b[39mwrite(settings[\u001b[38;5;124m'\u001b[39m\u001b[38;5;124mwrite_string\u001b[39m\u001b[38;5;124m'\u001b[39m]\u001b[38;5;241m.\u001b[39mformat(index))\n",
      "\u001b[1;31mAttributeError\u001b[0m: 'dict' object has no attribute 'index'"
     ]
    }
   ],
   "source": [
    "srs830 = ps.Stanford830(res)\n",
    "\n",
    "test_driver(srs830)"
   ]
  },
  {
   "cell_type": "code",
   "execution_count": null,
   "metadata": {},
   "outputs": [],
   "source": []
  }
 ],
 "metadata": {
  "kernelspec": {
   "display_name": "base",
   "language": "python",
   "name": "python3"
  },
  "language_info": {
   "codemirror_mode": {
    "name": "ipython",
    "version": 3
   },
   "file_extension": ".py",
   "mimetype": "text/x-python",
   "name": "python",
   "nbconvert_exporter": "python",
   "pygments_lexer": "ipython3",
   "version": "3.11.5"
  }
 },
 "nbformat": 4,
 "nbformat_minor": 2
}
