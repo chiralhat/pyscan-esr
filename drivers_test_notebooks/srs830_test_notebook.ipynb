{
 "cells": [
  {
   "cell_type": "code",
   "execution_count": 6,
   "metadata": {
    "metadata": {}
   },
   "outputs": [
    {
     "name": "stdout",
     "output_type": "stream",
     "text": [
      "The autoreload extension is already loaded. To reload it, use:\n",
      "  %reload_ext autoreload\n"
     ]
    },
    {
     "name": "stderr",
     "output_type": "stream",
     "text": [
      "[autoreload of pyscan.drivers.stanford830 failed: Traceback (most recent call last):\n",
      "  File \"c:\\ProgramData\\anaconda3\\Lib\\site-packages\\IPython\\extensions\\autoreload.py\", line 276, in check\n",
      "    superreload(m, reload, self.old_objects)\n",
      "  File \"c:\\ProgramData\\anaconda3\\Lib\\site-packages\\IPython\\extensions\\autoreload.py\", line 500, in superreload\n",
      "    update_generic(old_obj, new_obj)\n",
      "  File \"c:\\ProgramData\\anaconda3\\Lib\\site-packages\\IPython\\extensions\\autoreload.py\", line 397, in update_generic\n",
      "    update(a, b)\n",
      "  File \"c:\\ProgramData\\anaconda3\\Lib\\site-packages\\IPython\\extensions\\autoreload.py\", line 349, in update_class\n",
      "    if update_generic(old_obj, new_obj):\n",
      "       ^^^^^^^^^^^^^^^^^^^^^^^^^^^^^^^^\n",
      "  File \"c:\\ProgramData\\anaconda3\\Lib\\site-packages\\IPython\\extensions\\autoreload.py\", line 397, in update_generic\n",
      "    update(a, b)\n",
      "  File \"c:\\ProgramData\\anaconda3\\Lib\\site-packages\\IPython\\extensions\\autoreload.py\", line 371, in update_property\n",
      "    update_generic(old.fget, new.fget)\n",
      "  File \"c:\\ProgramData\\anaconda3\\Lib\\site-packages\\IPython\\extensions\\autoreload.py\", line 397, in update_generic\n",
      "    update(a, b)\n",
      "  File \"c:\\ProgramData\\anaconda3\\Lib\\site-packages\\IPython\\extensions\\autoreload.py\", line 309, in update_function\n",
      "    setattr(old, name, getattr(new, name))\n",
      "ValueError: <lambda>() requires a code object with 2 free vars, not 2370821947392\n",
      "]\n"
     ]
    }
   ],
   "source": [
    "%load_ext autoreload\n",
    "%autoreload 2\n",
    "\n",
    "import pyscan as ps\n",
    "from pyscan.drivers.testing.auto_test_driver import test_driver\n",
    "from pyvisa import ResourceManager, VisaIOError\n",
    "from time import sleep"
   ]
  },
  {
   "cell_type": "code",
   "execution_count": 7,
   "metadata": {
    "metadata": {}
   },
   "outputs": [
    {
     "name": "stdout",
     "output_type": "stream",
     "text": [
      "GPIB0::8::INSTR Stanford_Research_Systems,SR830,s/n86813,ver1.07 \n",
      "\n"
     ]
    }
   ],
   "source": [
    "rm = ResourceManager()\n",
    "\n",
    "rs = rm.list_resources()\n",
    "# print(rs)\n",
    "for r in rs:\n",
    "    res = rm.open_resource(r)\n",
    "    try:      \n",
    "        name = res.query('*IDN?')\n",
    "        if 'SR830' in name:\n",
    "            print(r, name)\n",
    "            break\n",
    "    except VisaIOError:\n",
    "        pass\n",
    "    res.close()"
   ]
  },
  {
   "cell_type": "code",
   "execution_count": 8,
   "metadata": {
    "metadata": {}
   },
   "outputs": [
    {
     "data": {
      "text/plain": [
       "'Stanford_Research_Systems,SR830,s/n86813,ver1.07 \\n'"
      ]
     },
     "execution_count": 8,
     "metadata": {},
     "output_type": "execute_result"
    }
   ],
   "source": [
    "name"
   ]
  },
  {
   "cell_type": "code",
   "execution_count": 13,
   "metadata": {
    "metadata": {}
   },
   "outputs": [
    {
     "name": "stderr",
     "output_type": "stream",
     "text": [
      "[autoreload of pyscan.drivers.stanford830 failed: Traceback (most recent call last):\n",
      "  File \"c:\\ProgramData\\anaconda3\\Lib\\site-packages\\IPython\\extensions\\autoreload.py\", line 276, in check\n",
      "    superreload(m, reload, self.old_objects)\n",
      "  File \"c:\\ProgramData\\anaconda3\\Lib\\site-packages\\IPython\\extensions\\autoreload.py\", line 500, in superreload\n",
      "    update_generic(old_obj, new_obj)\n",
      "  File \"c:\\ProgramData\\anaconda3\\Lib\\site-packages\\IPython\\extensions\\autoreload.py\", line 397, in update_generic\n",
      "    update(a, b)\n",
      "  File \"c:\\ProgramData\\anaconda3\\Lib\\site-packages\\IPython\\extensions\\autoreload.py\", line 349, in update_class\n",
      "    if update_generic(old_obj, new_obj):\n",
      "       ^^^^^^^^^^^^^^^^^^^^^^^^^^^^^^^^\n",
      "  File \"c:\\ProgramData\\anaconda3\\Lib\\site-packages\\IPython\\extensions\\autoreload.py\", line 397, in update_generic\n",
      "    update(a, b)\n",
      "  File \"c:\\ProgramData\\anaconda3\\Lib\\site-packages\\IPython\\extensions\\autoreload.py\", line 371, in update_property\n",
      "    update_generic(old.fget, new.fget)\n",
      "  File \"c:\\ProgramData\\anaconda3\\Lib\\site-packages\\IPython\\extensions\\autoreload.py\", line 397, in update_generic\n",
      "    update(a, b)\n",
      "  File \"c:\\ProgramData\\anaconda3\\Lib\\site-packages\\IPython\\extensions\\autoreload.py\", line 309, in update_function\n",
      "    setattr(old, name, getattr(new, name))\n",
      "ValueError: <lambda>() requires a code object with 2 free vars, not 2370821947392\n",
      "]\n"
     ]
    },
    {
     "name": "stdout",
     "output_type": "stream",
     "text": [
      "Initial state for the Stanford830 was: [('phase', 180.0), ('reference_source', 'external'), ('frequency', 1000.0), ('reference_slope', 'sine zero'), ('harmonic', 1), ('instrument_amplitude', 0.984), ('input_configuration', 'A'), ('input_ground', 'AC'), ('input_coupling', 'AC'), ('input_line_filter', 'none'), ('sensitivity', 2e-09), ('reserve_mode', 'high'), ('time_constant', 30), ('filter_slope', 6), ('synchronous_filter', 'off'), ('sample_rate', 0.25), ('end_buffer_mode', 'one shot'), ('trigger_mode', 'on')]\n",
      "These blacklisted settings and their corresponding values were not reset:  [('_input_configuration', 'A'), ('_time_constant', 30), ('_sample_rate', 0.25)]\n",
      "Reset state for the Stanford830 was: [('phase', 180.0), ('reference_source', 'external'), ('frequency', 1000.0), ('reference_slope', 'sine zero'), ('harmonic', 1), ('instrument_amplitude', 0.984), ('input_configuration', 'A'), ('input_ground', 'AC'), ('input_coupling', 'AC'), ('input_line_filter', 'none'), ('sensitivity', 2e-09), ('reserve_mode', 'high'), ('time_constant', 30), ('filter_slope', 6), ('synchronous_filter', 'off'), ('sample_rate', 0.25), ('end_buffer_mode', 'one shot'), ('trigger_mode', 'on')]\n",
      "Beginning tests for:  Stanford830\n",
      "4 range properties found and tested out of 18 total settings found.\n",
      "0 values properties found and tested out of 18 total settings found.\n",
      "9 indexed values properties found and tested out of 18 total settings found.\n",
      "2 dict values properties found and tested out of 18 total settings found.\n",
      "3 blacklisted settings not testing (likely due to interdependencies not suitable for automated testing)\n",
      "15 properties tested out of 18 total settings.\n",
      "Settings restored to: [('phase', 180.0), ('reference_source', 'external'), ('frequency', 1000.0), ('reference_slope', 'sine zero'), ('harmonic', 1), ('instrument_amplitude', 0.984), ('input_configuration', 'A'), ('input_ground', 'AC'), ('input_coupling', 'AC'), ('input_line_filter', 'none'), ('sensitivity', 2e-09), ('reserve_mode', 'high'), ('time_constant', 30), ('filter_slope', 6), ('synchronous_filter', 'off'), ('sample_rate', 0.25), ('end_buffer_mode', 'one shot'), ('trigger_mode', 'on')]\n",
      "Tests passed, instrument Stanford830 should be ready to go.\n"
     ]
    }
   ],
   "source": [
    "srs830 = ps.Stanford830(res)\n",
    "\n",
    "test_driver(srs830)"
   ]
  },
  {
   "cell_type": "code",
   "execution_count": 21,
   "metadata": {
    "metadata": {}
   },
   "outputs": [
    {
     "name": "stdout",
     "output_type": "stream",
     "text": [
      "('r', 'aux1')\n",
      "('x', 'none')\n",
      "Sucessfully failed setting channel 1 to y\n",
      "('theta', 'aux3')\n",
      "('y', 'none')\n",
      "Sucessfully failed setting channel 2 to x\n"
     ]
    }
   ],
   "source": [
    "# Test get and set display\n",
    "\n",
    "srs830.set_display(1, 'r', 'aux1')\n",
    "print(srs830.get_display(1))\n",
    "srs830.set_display(1, 'x', 'none')\n",
    "print(srs830.get_display(1))\n",
    "try:\n",
    "    srs830.set_display(1, 'y', 'none')\n",
    "except AssertionError:\n",
    "    print('Sucessfully failed setting channel 1 to y')\n",
    "srs830.set_display(2, 'theta', 'aux3')\n",
    "print(srs830.get_display(2))\n",
    "srs830.set_display(2, 'y', 'none')\n",
    "print(srs830.get_display(2))\n",
    "try:\n",
    "    srs830.set_display(2, 'x', 'none')\n",
    "except AssertionError:\n",
    "    print('Sucessfully failed setting channel 2 to x')"
   ]
  },
  {
   "cell_type": "code",
   "execution_count": 23,
   "metadata": {
    "metadata": {}
   },
   "outputs": [
    {
     "name": "stdout",
     "output_type": "stream",
     "text": [
      "(100.0, 1)\n",
      "(0.0, 0)\n"
     ]
    }
   ],
   "source": [
    "# Test get and set offset and expand\n",
    "\n",
    "srs830.set_channel_offset_expand(1, 100, 10)\n",
    "print(srs830.get_channel_offset_expand(1))\n",
    "srs830.set_channel_offset_expand(1, 0, 1)\n",
    "print(srs830.get_channel_offset_expand(1))\n"
   ]
  },
  {
   "cell_type": "code",
   "execution_count": 68,
   "metadata": {},
   "outputs": [
    {
     "name": "stdout",
     "output_type": "stream",
     "text": [
      "0.00384523 6.10356e-05\n",
      "-0.0144044 -0.000183106\n",
      "0.0 0.0\n"
     ]
    }
   ],
   "source": [
    "# Test auto offset\n",
    "# First number should be some value, second number should be close to 0\n",
    "srs830.set_channel_offset_expand(1, 0, 1)\n",
    "v0 = srs830.read('x')\n",
    "srs830.auto_offset('x')\n",
    "v_offset = srs830.read('x')\n",
    "print(v0, v_offset)\n",
    "srs830.set_channel_offset_expand(1, 0, 1)\n",
    "\n",
    "\n",
    "srs830.set_channel_offset_expand(2, 0, 1)\n",
    "v0 = srs830.read('y')\n",
    "srs830.auto_offset('y')\n",
    "v_offset = srs830.read('y')\n",
    "print(v0, v_offset)\n",
    "srs830.set_channel_offset_expand(2, 0, 1)\n",
    "\n",
    "srs830.set_channel_offset_expand(1, 0, 1)\n",
    "v0 = srs830.read('r')\n",
    "srs830.auto_offset('r')\n",
    "v_offset = srs830.read('r')\n",
    "print(v0, v_offset)\n",
    "srs830.set_display(1, 'r', 'none')\n",
    "srs830.set_channel_offset_expand(1, 0, 1)\n",
    "srs830.set_display(1, 'x', 'none')\n"
   ]
  },
  {
   "cell_type": "code",
   "execution_count": 33,
   "metadata": {},
   "outputs": [
    {
     "name": "stdout",
     "output_type": "stream",
     "text": [
      "0.00366667\n",
      "0.00266667\n",
      "0.00433333\n",
      "0.00266667\n"
     ]
    }
   ],
   "source": [
    "# Test read aux inputs\n",
    "# shoudl show some random small value\n",
    "for i in range(1, 5):\n",
    "    print(srs830.read_aux_input(i))"
   ]
  },
  {
   "cell_type": "code",
   "execution_count": 36,
   "metadata": {},
   "outputs": [
    {
     "name": "stdout",
     "output_type": "stream",
     "text": [
      "0.00384523\n",
      "-0.0144044\n",
      "0.0\n",
      "-74.97\n"
     ]
    }
   ],
   "source": [
    "# Read x, y, r, theta\n",
    "\n",
    "print(srs830.read('x'))\n",
    "print(srs830.read('y'))\n",
    "print(srs830.read('r'))\n",
    "print(srs830.read('theta'))"
   ]
  },
  {
   "cell_type": "code",
   "execution_count": 42,
   "metadata": {},
   "outputs": [
    {
     "name": "stdout",
     "output_type": "stream",
     "text": [
      "0.00384523\n",
      "-0.0144044\n"
     ]
    }
   ],
   "source": [
    "# Read display\n",
    "\n",
    "for i in range(1, 3):\n",
    "    print(srs830.read_display(i))"
   ]
  },
  {
   "cell_type": "code",
   "execution_count": 64,
   "metadata": {},
   "outputs": [
    {
     "name": "stdout",
     "output_type": "stream",
     "text": [
      "[0.00384523, -0.0144044]\n",
      "[0.00384523, 0.0]\n",
      "[0.00384523, -74.97]\n",
      "[0.00384523, 0.000666667]\n",
      "[0.00384523, 0.004]\n",
      "[0.00384523, -0.00633333]\n",
      "[0.00384523, 0.000666667]\n",
      "[0.00384523, 1000.0]\n",
      "[0.00384523, 0.00384523]\n",
      "[0.00384523, -0.0144044]\n",
      "Couldnt snap 7 entries\n"
     ]
    }
   ],
   "source": [
    "# Test snap\n",
    "\n",
    "for source in ['y', 'r', 'theta', 'aux1', 'aux2', 'aux3',\n",
    "                  'aux4', 'frequency', 'display1', 'display2']:\n",
    "    print(srs830.snap('x', source))\n",
    "\n",
    "srs830.snap('x', 'y', 'r', 'theta', 'frequency', 'display1')\n",
    "\n",
    "try:\n",
    "    srs830.snap('x', 'y', 'r', 'theta', 'frequency', 'display1', 'display2')\n",
    "except:\n",
    "    print('Couldnt snap 7 entries')"
   ]
  },
  {
   "cell_type": "code",
   "execution_count": 67,
   "metadata": {},
   "outputs": [
    {
     "data": {
      "text/plain": [
       "'Stanford_Research_Systems,SR830,s/n86813,ver1.07 '"
      ]
     },
     "execution_count": 67,
     "metadata": {},
     "output_type": "execute_result"
    }
   ],
   "source": [
    "# test get ID\n",
    "\n",
    "srs830.get_identificaiton_string()"
   ]
  },
  {
   "cell_type": "code",
   "execution_count": 95,
   "metadata": {},
   "outputs": [
    {
     "data": {
      "text/plain": [
       "5"
      ]
     },
     "execution_count": 95,
     "metadata": {},
     "output_type": "execute_result"
    }
   ],
   "source": [
    "# test buffer_points\n",
    "\n",
    "srs830.buffer_points\n",
    "srs830.wait_for_trigger()\n",
    "srs830.set_buffer_mode(0.25)\n",
    "srs830.wait_for_trigger()\n",
    "# srs830.start()\n",
    "srs830.trigger()\n",
    "sleep(20)\n",
    "srs830.buffer_points\n"
   ]
  },
  {
   "cell_type": "code",
   "execution_count": 91,
   "metadata": {},
   "outputs": [
    {
     "data": {
      "text/plain": [
       "'0\\n'"
      ]
     },
     "execution_count": 91,
     "metadata": {},
     "output_type": "execute_result"
    }
   ],
   "source": [
    "srs830.query('SRAT?')"
   ]
  },
  {
   "cell_type": "code",
   "execution_count": 92,
   "metadata": {},
   "outputs": [
    {
     "data": {
      "text/plain": [
       "0.0625"
      ]
     },
     "execution_count": 92,
     "metadata": {},
     "output_type": "execute_result"
    }
   ],
   "source": [
    "srs830.sample_rate"
   ]
  },
  {
   "cell_type": "code",
   "execution_count": null,
   "metadata": {},
   "outputs": [],
   "source": []
  }
 ],
 "metadata": {
  "kernelspec": {
   "display_name": "base",
   "language": "python",
   "name": "python3"
  },
  "language_info": {
   "codemirror_mode": {
    "name": "ipython",
    "version": 3
   },
   "file_extension": ".py",
   "mimetype": "text/x-python",
   "name": "python",
   "nbconvert_exporter": "python",
   "pygments_lexer": "ipython3",
   "version": "3.11.5"
  }
 },
 "nbformat": 4,
 "nbformat_minor": 2
}
