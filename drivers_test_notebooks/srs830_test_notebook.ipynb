{
 "cells": [
  {
   "cell_type": "code",
   "execution_count": 1,
   "metadata": {
    "metadata": {}
   },
   "outputs": [
    {
     "name": "stdout",
     "output_type": "stream",
     "text": [
      "Could not load Keysight SD1\n",
      "Could not load Keysight SD1\n",
      "pylablib not found, AttocubeANC350 not loaded\n",
      "Basler Camera software not found, BaserCamera not loaded\n",
      "Helios Camera not installed\n",
      "msl not installed, Thorlabs BSC203 driver not loaded\n",
      "seabreeze module not found, Ocean Optics not imported\n",
      "Thorlabs Kinesis not found, ThorlabsBSC203 not loaded\n",
      "Thorlabs Kinesis not found, ThorlabsBPC303 not loaded\n",
      "Thorlabs Kinesis not found, ThorlabsMFF101 not loaded\n"
     ]
    }
   ],
   "source": [
    "%load_ext autoreload\n",
    "%autoreload 2\n",
    "\n",
    "import pyscan as ps\n",
    "from pyscan.drivers.testing.auto_test_driver import test_driver\n",
    "from pyvisa import ResourceManager, VisaIOError\n",
    "import pytest\n",
    "from time import sleep"
   ]
  },
  {
   "cell_type": "code",
   "execution_count": 2,
   "metadata": {
    "metadata": {}
   },
   "outputs": [
    {
     "name": "stdout",
     "output_type": "stream",
     "text": [
      "GPIB0::8::INSTR Stanford_Research_Systems,SR830,s/n86813,ver1.07 \n",
      "\n"
     ]
    }
   ],
   "source": [
    "rm = ResourceManager()\n",
    "\n",
    "rs = rm.list_resources()\n",
    "# print(rs)\n",
    "for r in rs:\n",
    "    res = rm.open_resource(r)\n",
    "    try:      \n",
    "        name = res.query('*IDN?')\n",
    "        if 'SR830' in name:\n",
    "            print(r, name)\n",
    "            break\n",
    "    except VisaIOError:\n",
    "        pass\n",
    "    res.close()"
   ]
  },
  {
   "cell_type": "code",
   "execution_count": 3,
   "metadata": {
    "metadata": {}
   },
   "outputs": [
    {
     "name": "stdout",
     "output_type": "stream",
     "text": [
      "Blacklisted settings that will not be tested or changed are: \n",
      "[('_amplitude', 0.028),\n",
      " ('_input_configuration', 'A-B'),\n",
      " ('_sensitivity', 0.005),\n",
      " ('_time_constant', 1)]\n",
      "\n",
      "Beginning tests for:  Stanford830  version  1.0.2\n",
      "_id_settings\n",
      "_phase_settings\n",
      "_reference_source_settings\n",
      "_frequency_settings\n",
      "_reference_slope_settings\n",
      "_harmonic_settings\n",
      "_input_ground_settings\n",
      "_input_coupling_settings\n"
     ]
    }
   ],
   "source": [
    "srs830 = ps.Stanford830(res)\n",
    "test_driver(srs830, verbose=False)"
   ]
  },
  {
   "cell_type": "code",
   "execution_count": null,
   "metadata": {
    "metadata": {}
   },
   "outputs": [
    {
     "name": "stdout",
     "output_type": "stream",
     "text": [
      "Sucessfully failed setting channel 1 to y\n",
      "Sucessfully failed setting channel 2 to x\n",
      "Successfully tested get and set display\n"
     ]
    }
   ],
   "source": [
    "# Test get and set display\n",
    "\n",
    "srs830.set_display(1, 'r', 'aux1') # number, source, ratio\n",
    "source, ratio = srs830.get_display(1)\n",
    "assert source == 'r'\n",
    "assert ratio == 'aux1'\n",
    "\n",
    "\n",
    "srs830.set_display(1, 'x', 'none')\n",
    "source, ratio = srs830.get_display(1)\n",
    "assert source == 'x'\n",
    "assert ratio == 'none'\n",
    "\n",
    "\n",
    "with pytest.raises(AssertionError):\n",
    "    srs830.set_display(1, 'y', 'none')\n",
    "print('Sucessfully failed setting channel 1 to y')\n",
    "    \n",
    "    \n",
    "srs830.set_display(2, 'theta', 'aux3')\n",
    "source, ratio = srs830.get_display(2)\n",
    "assert source == 'theta'\n",
    "assert ratio == 'aux3'\n",
    "\n",
    "\n",
    "srs830.set_display(2, 'y', 'none')\n",
    "source, ratio = srs830.get_display(2)\n",
    "assert source == 'y'\n",
    "assert ratio == 'none'\n",
    "\n",
    "\n",
    "with pytest.raises(AssertionError):\n",
    "    srs830.set_display(2, 'x', 'none')\n",
    "print('Sucessfully failed setting channel 2 to x')\n",
    "\n",
    "print(\"Successfully tested get and set display\")\n"
   ]
  },
  {
   "cell_type": "code",
   "execution_count": null,
   "metadata": {
    "metadata": {}
   },
   "outputs": [
    {
     "name": "stdout",
     "output_type": "stream",
     "text": [
      "['100', '1']\n",
      "['0', '0']\n"
     ]
    }
   ],
   "source": [
    "# Test get and set offset and expand\n",
    "\n",
    "srs830.set_channel_offset_expand(1, 100, 10)\n",
    "print(srs830.get_channel_offset_expand(1))\n",
    "\n",
    "srs830.set_channel_offset_expand(1, 0, 1)\n",
    "print(srs830.get_channel_offset_expand(1))\n"
   ]
  },
  {
   "cell_type": "code",
   "execution_count": null,
   "metadata": {},
   "outputs": [
    {
     "name": "stdout",
     "output_type": "stream",
     "text": [
      "-8.94074e-05 -4.76841e-07\n",
      "0.000385048 2.3842e-07\n",
      "-0.00506476 -9.53682e-07\n"
     ]
    }
   ],
   "source": [
    "# Test auto offset\n",
    "# v0 should be some value, v_offset should be close to 0\n",
    "srs830.set_channel_offset_expand(1, 0, 1)\n",
    "v0 = srs830.read('x')\n",
    "srs830.auto_offset('x')\n",
    "v_offset = srs830.read('x')\n",
    "print(v0, v_offset)\n",
    "assert abs(v_offset - 0) < 0.0001\n",
    "\n",
    "\n",
    "srs830.set_channel_offset_expand(2, 0, 1)\n",
    "v0 = srs830.read('y')\n",
    "srs830.auto_offset('y')\n",
    "v_offset = srs830.read('y')\n",
    "print(v0, v_offset)\n",
    "assert abs(v_offset - 0) < 0.0001\n",
    "\n",
    "srs830.set_channel_offset_expand(1, 0, 1)\n",
    "v0 = srs830.read('r')\n",
    "srs830.auto_offset('r')\n",
    "v_offset = srs830.read('r')\n",
    "print(v0, v_offset)\n",
    "assert abs(v_offset - 0) < 0.0001\n",
    "\n",
    "\n",
    "srs830.set_channel_offset_expand(1, 0, 1)\n",
    "srs830.set_display(1, 'x', 'none')\n",
    "\n",
    "srs830.set_channel_offset_expand(2, 0, 1)\n",
    "srs830.set_display(2, 'y', 'none')\n"
   ]
  },
  {
   "cell_type": "code",
   "execution_count": null,
   "metadata": {},
   "outputs": [
    {
     "name": "stdout",
     "output_type": "stream",
     "text": [
      "0.000666667\n",
      "-0.000666667\n",
      "0.00566667\n",
      "0.000666667\n"
     ]
    }
   ],
   "source": [
    "# Test read aux inputs\n",
    "# shoudl show some random small value\n",
    "for i in range(1, 5):\n",
    "    aux_input = srs830.read_aux_input(i)\n",
    "    print(aux_input)\n",
    "    assert abs(aux_input - 0) < 0.1"
   ]
  },
  {
   "cell_type": "code",
   "execution_count": null,
   "metadata": {},
   "outputs": [
    {
     "name": "stdout",
     "output_type": "stream",
     "text": [
      "-8.98843e-05\n",
      "0.000384809\n",
      "-7.15259e-07\n",
      "5908.116590643592\n"
     ]
    }
   ],
   "source": [
    "# Read x, y, r, theta\n",
    "\n",
    "print(srs830.read('x'))\n",
    "print(srs830.read('y'))\n",
    "print(srs830.read('r'))\n",
    "print(srs830.read('theta'))"
   ]
  },
  {
   "cell_type": "code",
   "execution_count": null,
   "metadata": {},
   "outputs": [
    {
     "name": "stdout",
     "output_type": "stream",
     "text": [
      "-8.98843e-05\n",
      "0.000384809\n"
     ]
    }
   ],
   "source": [
    "# Read display\n",
    "\n",
    "for i in range(1, 3):\n",
    "    print(srs830.read_display(i))"
   ]
  },
  {
   "cell_type": "code",
   "execution_count": null,
   "metadata": {},
   "outputs": [
    {
     "name": "stdout",
     "output_type": "stream",
     "text": [
      "[-8.98843e-05, 0.000385048]\n",
      "[-8.98843e-05, -9.53682e-07]\n",
      "[-8.98843e-05, 5909.491690513403]\n",
      "[-8.98843e-05, 0.000666667]\n",
      "[-8.98843e-05, -0.000666667]\n",
      "[-8.98843e-05, 0.00166667]\n",
      "[-8.96459e-05, -0.01]\n",
      "[-8.98843e-05, 1000.0]\n",
      "[-8.98843e-05, -8.98843e-05]\n",
      "[-8.98843e-05, 0.000384809]\n"
     ]
    }
   ],
   "source": [
    "# Test snap\n",
    "\n",
    "for source in ['y', 'r', 'theta', 'aux1', 'aux2', 'aux3',\n",
    "                  'aux4', 'frequency', 'display1', 'display2']:\n",
    "    print(srs830.snap('x', source))\n",
    "\n",
    "srs830.snap('x', 'y', 'r', 'theta', 'frequency', 'display1')\n",
    "\n",
    "\n",
    "with pytest.raises(AssertionError):\n",
    "    srs830.snap('x', 'y', 'r', 'theta', 'frequency', 'display1', 'display2')\n",
    "    # snap only accepts 6 entries"
   ]
  },
  {
   "cell_type": "code",
   "execution_count": null,
   "metadata": {},
   "outputs": [
    {
     "name": "stdout",
     "output_type": "stream",
     "text": [
      "Stanford_Research_Systems,SR830,s/n86813,ver1.07 \n"
     ]
    }
   ],
   "source": [
    "# test get ID\n",
    "\n",
    "id = srs830.get_identificaiton_string()\n",
    "assert 'Stanford_Research_Systems,SR830' in id\n",
    "print(id)"
   ]
  },
  {
   "cell_type": "code",
   "execution_count": null,
   "metadata": {},
   "outputs": [],
   "source": [
    "# test buffer_points\n",
    "\n",
    "srs830.buffer_points\n",
    "srs830.wait_for_trigger()\n",
    "srs830.set_buffer_mode(8)\n",
    "srs830.wait_for_trigger()\n",
    "# srs830.start()\n",
    "srs830.trigger()\n",
    "sleep(20)\n",
    "srs830.buffer_points\n",
    "srs830.pause()\n"
   ]
  }
 ],
 "metadata": {
  "kernelspec": {
   "display_name": "rsbrostenv",
   "language": "python",
   "name": "python3"
  },
  "language_info": {
   "codemirror_mode": {
    "name": "ipython",
    "version": 3
   },
   "file_extension": ".py",
   "mimetype": "text/x-python",
   "name": "python",
   "nbconvert_exporter": "python",
   "pygments_lexer": "ipython3",
   "version": "3.12.4"
  }
 },
 "nbformat": 4,
 "nbformat_minor": 2
}
