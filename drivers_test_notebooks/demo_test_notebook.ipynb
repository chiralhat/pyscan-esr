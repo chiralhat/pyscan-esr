{
 "cells": [
  {
   "cell_type": "code",
   "execution_count": 1,
   "metadata": {},
   "outputs": [
    {
     "name": "stdout",
     "output_type": "stream",
     "text": [
      "Could not load Keysight SD1\n",
      "Could not load Keysight SD1\n",
      "pylablib not found, AttocubeANC350 not loaded\n",
      "Basler Camera software not found, BaserCamera not loaded\n",
      "Helios Camera not installed\n",
      "msl not installed, Thorlabs BSC203 driver not loaded\n",
      "seabreeze module not found, Ocean Optics not imported\n",
      "Failed to load spinapi library.\n",
      "spinapi is not installed, PulseBlaster driver not loaded.\n",
      "Thorlabs Kinesis not found, ThorlabsBSC203 not loaded\n",
      "Thorlabs Kinesis not found, ThorlabsBPC303 not loaded\n",
      "Thorlabs Kinesis not found, ThorlabsMFF101 not loaded\n"
     ]
    }
   ],
   "source": [
    "%load_ext autoreload\n",
    "%autoreload 2\n",
    "\n",
    "import pyscan as ps\n",
    "from pyscan.drivers.testing.auto_test_driver import test_driver"
   ]
  },
  {
   "cell_type": "code",
   "execution_count": 2,
   "metadata": {},
   "outputs": [],
   "source": [
    "from pyvisa import ResourceManager, VisaIOError"
   ]
  },
  {
   "cell_type": "code",
   "execution_count": 3,
   "metadata": {},
   "outputs": [],
   "source": [
    "# Please note, a driver may only be connected with one kernel at a time.\n",
    "# If the resource is said to be busy or you get the error message: \"The resource is valid, but VISA cannot currently access it.\"\n",
    "# Restart/close the prior kernel and try connecting again. You may have to close all VS code windows and/or ask other computer users to as well."
   ]
  },
  {
   "cell_type": "code",
   "execution_count": 4,
   "metadata": {},
   "outputs": [
    {
     "ename": "VisaIOError",
     "evalue": "VI_ERROR_RSRC_BUSY (-1073807246): The resource is valid, but VISA cannot currently access it.",
     "output_type": "error",
     "traceback": [
      "\u001b[1;31m---------------------------------------------------------------------------\u001b[0m",
      "\u001b[1;31mVisaIOError\u001b[0m                               Traceback (most recent call last)",
      "Cell \u001b[1;32mIn[4], line 6\u001b[0m\n\u001b[0;32m      4\u001b[0m \u001b[38;5;66;03m# print(rs)\u001b[39;00m\n\u001b[0;32m      5\u001b[0m \u001b[38;5;28;01mfor\u001b[39;00m r \u001b[38;5;129;01min\u001b[39;00m rs:\n\u001b[1;32m----> 6\u001b[0m     res \u001b[38;5;241m=\u001b[39m rm\u001b[38;5;241m.\u001b[39mopen_resource(r)\n\u001b[0;32m      7\u001b[0m     \u001b[38;5;28;01mtry\u001b[39;00m:       \n\u001b[0;32m      8\u001b[0m         \u001b[38;5;28mprint\u001b[39m(r, res\u001b[38;5;241m.\u001b[39mquery(\u001b[38;5;124m'\u001b[39m\u001b[38;5;124m*IDN?\u001b[39m\u001b[38;5;124m'\u001b[39m))\n",
      "File \u001b[1;32m~\\AppData\\Roaming\\Python\\Python311\\site-packages\\pyvisa\\highlevel.py:3292\u001b[0m, in \u001b[0;36mResourceManager.open_resource\u001b[1;34m(self, resource_name, access_mode, open_timeout, resource_pyclass, **kwargs)\u001b[0m\n\u001b[0;32m   3286\u001b[0m     \u001b[38;5;28;01mif\u001b[39;00m \u001b[38;5;129;01mnot\u001b[39;00m present:\n\u001b[0;32m   3287\u001b[0m         \u001b[38;5;28;01mraise\u001b[39;00m \u001b[38;5;167;01mValueError\u001b[39;00m(\n\u001b[0;32m   3288\u001b[0m             \u001b[38;5;124m\"\u001b[39m\u001b[38;5;132;01m%r\u001b[39;00m\u001b[38;5;124m is not a valid attribute for type \u001b[39m\u001b[38;5;132;01m%s\u001b[39;00m\u001b[38;5;124m\"\u001b[39m\n\u001b[0;32m   3289\u001b[0m             \u001b[38;5;241m%\u001b[39m (key, res\u001b[38;5;241m.\u001b[39m\u001b[38;5;18m__class__\u001b[39m\u001b[38;5;241m.\u001b[39m\u001b[38;5;18m__name__\u001b[39m)\n\u001b[0;32m   3290\u001b[0m         )\n\u001b[1;32m-> 3292\u001b[0m res\u001b[38;5;241m.\u001b[39mopen(access_mode, open_timeout)\n\u001b[0;32m   3294\u001b[0m \u001b[38;5;28;01mfor\u001b[39;00m key, value \u001b[38;5;129;01min\u001b[39;00m kwargs\u001b[38;5;241m.\u001b[39mitems():\n\u001b[0;32m   3295\u001b[0m     \u001b[38;5;28msetattr\u001b[39m(res, key, value)\n",
      "File \u001b[1;32m~\\AppData\\Roaming\\Python\\Python311\\site-packages\\pyvisa\\resources\\resource.py:281\u001b[0m, in \u001b[0;36mResource.open\u001b[1;34m(self, access_mode, open_timeout)\u001b[0m\n\u001b[0;32m    277\u001b[0m logger\u001b[38;5;241m.\u001b[39mdebug(\u001b[38;5;124m\"\u001b[39m\u001b[38;5;132;01m%s\u001b[39;00m\u001b[38;5;124m - opening ...\u001b[39m\u001b[38;5;124m\"\u001b[39m, \u001b[38;5;28mself\u001b[39m\u001b[38;5;241m.\u001b[39m_resource_name, extra\u001b[38;5;241m=\u001b[39m\u001b[38;5;28mself\u001b[39m\u001b[38;5;241m.\u001b[39m_logging_extra)\n\u001b[0;32m    278\u001b[0m \u001b[38;5;28;01mwith\u001b[39;00m \u001b[38;5;28mself\u001b[39m\u001b[38;5;241m.\u001b[39m_resource_manager\u001b[38;5;241m.\u001b[39mignore_warning(\n\u001b[0;32m    279\u001b[0m     constants\u001b[38;5;241m.\u001b[39mStatusCode\u001b[38;5;241m.\u001b[39msuccess_device_not_present\n\u001b[0;32m    280\u001b[0m ):\n\u001b[1;32m--> 281\u001b[0m     \u001b[38;5;28mself\u001b[39m\u001b[38;5;241m.\u001b[39msession, status \u001b[38;5;241m=\u001b[39m \u001b[38;5;28mself\u001b[39m\u001b[38;5;241m.\u001b[39m_resource_manager\u001b[38;5;241m.\u001b[39mopen_bare_resource(\n\u001b[0;32m    282\u001b[0m         \u001b[38;5;28mself\u001b[39m\u001b[38;5;241m.\u001b[39m_resource_name, access_mode, open_timeout\n\u001b[0;32m    283\u001b[0m     )\n\u001b[0;32m    285\u001b[0m     \u001b[38;5;28;01mif\u001b[39;00m status \u001b[38;5;241m==\u001b[39m constants\u001b[38;5;241m.\u001b[39mStatusCode\u001b[38;5;241m.\u001b[39msuccess_device_not_present:\n\u001b[0;32m    286\u001b[0m         \u001b[38;5;66;03m# The device was not ready when we opened the session.\u001b[39;00m\n\u001b[0;32m    287\u001b[0m         \u001b[38;5;66;03m# Now it gets five seconds more to become ready.\u001b[39;00m\n\u001b[0;32m    288\u001b[0m         \u001b[38;5;66;03m# Every 0.1 seconds we probe it with viClear.\u001b[39;00m\n\u001b[0;32m    289\u001b[0m         start_time \u001b[38;5;241m=\u001b[39m time\u001b[38;5;241m.\u001b[39mtime()\n",
      "File \u001b[1;32m~\\AppData\\Roaming\\Python\\Python311\\site-packages\\pyvisa\\highlevel.py:3217\u001b[0m, in \u001b[0;36mResourceManager.open_bare_resource\u001b[1;34m(self, resource_name, access_mode, open_timeout)\u001b[0m\n\u001b[0;32m   3188\u001b[0m \u001b[38;5;28;01mdef\u001b[39;00m \u001b[38;5;21mopen_bare_resource\u001b[39m(\n\u001b[0;32m   3189\u001b[0m     \u001b[38;5;28mself\u001b[39m,\n\u001b[0;32m   3190\u001b[0m     resource_name: \u001b[38;5;28mstr\u001b[39m,\n\u001b[0;32m   3191\u001b[0m     access_mode: constants\u001b[38;5;241m.\u001b[39mAccessModes \u001b[38;5;241m=\u001b[39m constants\u001b[38;5;241m.\u001b[39mAccessModes\u001b[38;5;241m.\u001b[39mno_lock,\n\u001b[0;32m   3192\u001b[0m     open_timeout: \u001b[38;5;28mint\u001b[39m \u001b[38;5;241m=\u001b[39m constants\u001b[38;5;241m.\u001b[39mVI_TMO_IMMEDIATE,\n\u001b[0;32m   3193\u001b[0m ) \u001b[38;5;241m-\u001b[39m\u001b[38;5;241m>\u001b[39m Tuple[VISASession, StatusCode]:\n\u001b[0;32m   3194\u001b[0m \u001b[38;5;250m    \u001b[39m\u001b[38;5;124;03m\"\"\"Open the specified resource without wrapping into a class.\u001b[39;00m\n\u001b[0;32m   3195\u001b[0m \n\u001b[0;32m   3196\u001b[0m \u001b[38;5;124;03m    Parameters\u001b[39;00m\n\u001b[1;32m   (...)\u001b[0m\n\u001b[0;32m   3215\u001b[0m \n\u001b[0;32m   3216\u001b[0m \u001b[38;5;124;03m    \"\"\"\u001b[39;00m\n\u001b[1;32m-> 3217\u001b[0m     \u001b[38;5;28;01mreturn\u001b[39;00m \u001b[38;5;28mself\u001b[39m\u001b[38;5;241m.\u001b[39mvisalib\u001b[38;5;241m.\u001b[39mopen(\u001b[38;5;28mself\u001b[39m\u001b[38;5;241m.\u001b[39msession, resource_name, access_mode, open_timeout)\n",
      "File \u001b[1;32m~\\AppData\\Roaming\\Python\\Python311\\site-packages\\pyvisa\\ctwrapper\\functions.py:1850\u001b[0m, in \u001b[0;36mopen\u001b[1;34m(library, session, resource_name, access_mode, open_timeout)\u001b[0m\n\u001b[0;32m   1846\u001b[0m out_session \u001b[38;5;241m=\u001b[39m ViSession()\n\u001b[0;32m   1848\u001b[0m \u001b[38;5;66;03m# [ViSession, ViRsrc, ViAccessMode, ViUInt32, ViPSession]\u001b[39;00m\n\u001b[0;32m   1849\u001b[0m \u001b[38;5;66;03m# ViRsrc converts from (str, unicode, bytes) to bytes\u001b[39;00m\n\u001b[1;32m-> 1850\u001b[0m ret \u001b[38;5;241m=\u001b[39m library\u001b[38;5;241m.\u001b[39mviOpen(\n\u001b[0;32m   1851\u001b[0m     session, resource_name, access_mode, open_timeout, byref(out_session)\n\u001b[0;32m   1852\u001b[0m )\n\u001b[0;32m   1853\u001b[0m \u001b[38;5;28;01mreturn\u001b[39;00m out_session\u001b[38;5;241m.\u001b[39mvalue, ret\n",
      "File \u001b[1;32m~\\AppData\\Roaming\\Python\\Python311\\site-packages\\pyvisa\\ctwrapper\\highlevel.py:226\u001b[0m, in \u001b[0;36mIVIVisaLibrary._return_handler\u001b[1;34m(self, ret_value, func, arguments)\u001b[0m\n\u001b[0;32m    223\u001b[0m         \u001b[38;5;66;03m# Set session back to a safe value\u001b[39;00m\n\u001b[0;32m    224\u001b[0m         session \u001b[38;5;241m=\u001b[39m \u001b[38;5;28;01mNone\u001b[39;00m\n\u001b[1;32m--> 226\u001b[0m \u001b[38;5;28;01mreturn\u001b[39;00m \u001b[38;5;28mself\u001b[39m\u001b[38;5;241m.\u001b[39mhandle_return_value(session, ret_value)\n",
      "File \u001b[1;32m~\\AppData\\Roaming\\Python\\Python311\\site-packages\\pyvisa\\highlevel.py:251\u001b[0m, in \u001b[0;36mVisaLibraryBase.handle_return_value\u001b[1;34m(self, session, status_code)\u001b[0m\n\u001b[0;32m    248\u001b[0m     \u001b[38;5;28mself\u001b[39m\u001b[38;5;241m.\u001b[39m_last_status_in_session[session] \u001b[38;5;241m=\u001b[39m rv\n\u001b[0;32m    250\u001b[0m \u001b[38;5;28;01mif\u001b[39;00m rv \u001b[38;5;241m<\u001b[39m \u001b[38;5;241m0\u001b[39m:\n\u001b[1;32m--> 251\u001b[0m     \u001b[38;5;28;01mraise\u001b[39;00m errors\u001b[38;5;241m.\u001b[39mVisaIOError(rv)\n\u001b[0;32m    253\u001b[0m \u001b[38;5;28;01mif\u001b[39;00m rv \u001b[38;5;129;01min\u001b[39;00m \u001b[38;5;28mself\u001b[39m\u001b[38;5;241m.\u001b[39missue_warning_on:\n\u001b[0;32m    254\u001b[0m     \u001b[38;5;28;01mif\u001b[39;00m session \u001b[38;5;129;01mand\u001b[39;00m rv \u001b[38;5;129;01mnot\u001b[39;00m \u001b[38;5;129;01min\u001b[39;00m \u001b[38;5;28mself\u001b[39m\u001b[38;5;241m.\u001b[39m_ignore_warning_in_session[session]:\n",
      "\u001b[1;31mVisaIOError\u001b[0m: VI_ERROR_RSRC_BUSY (-1073807246): The resource is valid, but VISA cannot currently access it."
     ]
    }
   ],
   "source": [
    "rm = ResourceManager()\n",
    "\n",
    "rs = rm.list_resources()\n",
    "# print(rs)\n",
    "for r in rs:\n",
    "    res = rm.open_resource(r)\n",
    "    try:       \n",
    "        print(r, res.query('*IDN?'))\n",
    "    except VisaIOError:\n",
    "        pass"
   ]
  },
  {
   "cell_type": "code",
   "execution_count": null,
   "metadata": {},
   "outputs": [],
   "source": [
    "# Jasmine suggests that this may hide a bug in certain drivers where reassigning an instrument connection variable\n",
    "# will not close the previous connection. This may be an issue we need to test for so that reconnecting is reliable.\n",
    "# Drivers with this issue may need an additional clause \"__close__\" to resolve reconnecting issues.\n",
    "try:\n",
    "    del srs830\n",
    "except: \n",
    "    pass\n",
    "\n",
    "srs830 = ps.Stanford830('GPIB0::5::INSTR')"
   ]
  },
  {
   "cell_type": "code",
   "execution_count": null,
   "metadata": {},
   "outputs": [
    {
     "name": "stdout",
     "output_type": "stream",
     "text": [
      "Initial state for the Stanford830 was: [('phase', 180.0), ('reference_source', 'external'), ('frequency', 102000.0), ('reference_slope', 'sine zero'), ('harmonic', 1), ('amplitude', 4.996), ('input_configuration', 'A-B'), ('input_ground', 'AC'), ('input_coupling', 'AC'), ('input_line_filter', 'none'), ('sensitivity', 2e-09), ('reserve_mode', 'high'), ('time_constant', 30), ('filter_slope', 6), ('synchronous_filter', 'off'), ('display1_output_source', 'x'), ('display2_output_source', 'y'), ('auxillary_voltage1', -10.5), ('auxillary_voltage2', -10.5), ('auxillary_voltage3', -10.5), ('auxillary_voltage4', -10.5), ('sample_rate', 0.0625), ('end_buffer_mode', 'one shot'), ('trigger_mode', 'off'), ('local_remote_control', 'remote'), ('gpib_overrided_state', 'off'), ('power_on_status_clear', 'on')]\n",
      "These blacklisted settings and their corresponding values were not reset:  [('_amplitude', 4.996), ('_input_configuration', 'A-B'), ('_time_constant', 30), ('_power_on_status_clear', 'on')]\n",
      "Reset state for the Stanford830 was: [('phase', 180.0), ('reference_source', 'external'), ('frequency', 102000.0), ('reference_slope', 'sine zero'), ('harmonic', 1), ('amplitude', 4.996), ('input_configuration', 'A-B'), ('input_ground', 'AC'), ('input_coupling', 'AC'), ('input_line_filter', 'none'), ('sensitivity', 2e-09), ('reserve_mode', 'high'), ('time_constant', 30), ('filter_slope', 6), ('synchronous_filter', 'off'), ('display1_output_source', 'x'), ('display2_output_source', 'y'), ('auxillary_voltage1', -10.5), ('auxillary_voltage2', -10.5), ('auxillary_voltage3', -10.5), ('auxillary_voltage4', -10.5), ('sample_rate', 0.0625), ('end_buffer_mode', 'one shot'), ('trigger_mode', 'off'), ('local_remote_control', 'remote'), ('gpib_overrided_state', 'off'), ('power_on_status_clear', 'on')]\n",
      "Beginning tests for:  Stanford830\n",
      "7 range properties found and tested out of 27 total settings found.\n",
      "0 values properties found and tested out of 27 total settings found.\n",
      "13 indexed values properties found and tested out of 27 total settings found.\n",
      "3 dict values properties found and tested out of 27 total settings found.\n",
      "4 blacklisted settings not testing (likely due to interdependencies not suitable for automated testing)\n",
      "23 properties tested out of 27 total settings.\n",
      "Settings restored to: [('phase', 180.0), ('reference_source', 'external'), ('frequency', 102000.0), ('reference_slope', 'sine zero'), ('harmonic', 1), ('amplitude', 4.996), ('input_configuration', 'A-B'), ('input_ground', 'AC'), ('input_coupling', 'AC'), ('input_line_filter', 'none'), ('sensitivity', 2e-09), ('reserve_mode', 'high'), ('time_constant', 30), ('filter_slope', 6), ('synchronous_filter', 'off'), ('display1_output_source', 'x'), ('display2_output_source', 'y'), ('auxillary_voltage1', -10.5), ('auxillary_voltage2', -10.5), ('auxillary_voltage3', -10.5), ('auxillary_voltage4', -10.5), ('sample_rate', 0.0625), ('end_buffer_mode', 'one shot'), ('trigger_mode', 'off'), ('local_remote_control', 'remote'), ('gpib_overrided_state', 'off'), ('power_on_status_clear', 'on')]\n",
      "Tests passed, instrument Stanford830 should be ready to go.\n"
     ]
    }
   ],
   "source": [
    "'''\n",
    "If a device is failing test cases for a particular property try the following solutions first:\n",
    "\n",
    "1. Make sure there are no typos, abnormalities, or other mismatches in formatting in the add_device_property section\n",
    "for the given property.\n",
    "\n",
    "2. If the instrument's documentation notes that property has dependencies, create a black_list_for_testing attribute\n",
    "of type list in the driver init and include the .\n",
    "For the Stanford830 it looks like this: self.black_list_for_testing = ['_input_configuration', \"_time_constant\"]\n",
    "\n",
    "3. Make sure that all the properties being added to the device are also updated\n",
    "For the Standford830 it operates like this: \n",
    "    def __init__(self, instrument)\n",
    "        self.initialize_properties()\n",
    "        self.update_properties()\n",
    "\n",
    "    def update_properties(self):\n",
    "        self.phase\n",
    "        self.*all other added properties*\n",
    "\n",
    "If properties are added but not updated in this way it will not pass the drivers test unit.\n",
    "\n",
    "These are the most common problems I encountered when testing for the Stanford830.    \n",
    "'''\n",
    "\n",
    "test_driver(srs830)"
   ]
  },
  {
   "cell_type": "code",
   "execution_count": null,
   "metadata": {},
   "outputs": [],
   "source": [
    "srs830.input_configuration = 'A-B'"
   ]
  },
  {
   "cell_type": "code",
   "execution_count": null,
   "metadata": {},
   "outputs": [
    {
     "data": {
      "text/plain": [
       "'A-B'"
      ]
     },
     "execution_count": 28,
     "metadata": {},
     "output_type": "execute_result"
    }
   ],
   "source": [
    "srs830.input_configuration"
   ]
  },
  {
   "cell_type": "code",
   "execution_count": null,
   "metadata": {},
   "outputs": [
    {
     "name": "stdout",
     "output_type": "stream",
     "text": [
      "\u001b[1;31mType:\u001b[0m        property\n",
      "\u001b[1;31mString form:\u001b[0m <property object at 0x000001F39A37F560>\n",
      "\u001b[1;31mDocstring:\u001b[0m  \n",
      "input_configuration : int\n",
      "indexed_values: ['A', 'A-B', 'Ie6', 'Ie8']"
     ]
    }
   ],
   "source": [
    "srs830.input_configuration?"
   ]
  },
  {
   "cell_type": "code",
   "execution_count": null,
   "metadata": {},
   "outputs": [],
   "source": [
    "# If you experience a range error, you may need to reinitialize the instrument and restart the tests.\n",
    "\n",
    "try:\n",
    "    del keithley\n",
    "except: \n",
    "    pass\n",
    "keithley = ps.Keithley2260B('ASRL3::INSTR')"
   ]
  },
  {
   "cell_type": "code",
   "execution_count": null,
   "metadata": {},
   "outputs": [
    {
     "name": "stdout",
     "output_type": "stream",
     "text": [
      "dict_keys(['instrument', 'debug', 'max_current', 'min_current', 'max_current_trigger_ampliutde', 'min_current_trigger_ampliutde', 'max_over_current_level', 'min_over_current_level', 'max_current_rising_slew_rate', 'min_current_rising_slew_rate', 'max_current_falling_slew_rate', 'min_current_falling_slew_rate', 'max_resistance', 'min_resistance', 'max_voltage', 'min_voltage', 'max_voltage_trigger_ampliutde', 'min_voltage_trigger_ampliutde', 'max_over_voltage_level', 'min_over_voltage_level', 'max_voltage_rising_slew_rate', 'min_voltage_rising_slew_rate', 'max_voltage_falling_slew_rate', 'min_voltage_falling_slew_rate', 'black_list_for_testing', '_output_on_delay_settings', '_output_off_delay_settings', '_output_mode_settings', '_output_settings', '_output_trigger_state_settings', '_smoothing_settings', '_current_settings', '_curret_trigger_amplitude_settings', '_over_current_level_settings', '_current_protection_state_settings', '_current_rising_slew_rate_settings', '_current_falling_slew_rate_settings', '_resistance_settings', '_voltage_settings', '_voltage_trigger_amplitude_settings', '_over_voltage_level_settings', '_voltage_rising_slew_rate_settings', '_voltage_falling_slew_rate_settings', '_transient_trigger_source_settings', '_output_trigger_source_settings', '_output_on_delay', '_output_off_delay', '_output_mode', '_output', '_output_trigger_state', '_smoothing', '_current', '_curret_trigger_amplitude', '_over_current_level', '_current_protection_state', '_current_rising_slew_rate', '_current_falling_slew_rate', '_resistance', '_voltage', '_voltage_trigger_amplitude', '_over_voltage_level', '_voltage_rising_slew_rate', '_voltage_falling_slew_rate', '_transient_trigger_source', '_output_trigger_source'])\n",
      "Initial state for the Keithley2260B was: [('output_on_delay', 0.0), ('output_off_delay', 0.0), ('output_mode', 'CVHS'), ('output', 'off'), ('output_trigger_state', 'off'), ('smoothing', 'low'), ('current', 0.0), ('curret_trigger_amplitude', 0.0), ('over_current_level', 29.7), ('current_protection_state', 'off'), ('current_rising_slew_rate', 0.01), ('current_falling_slew_rate', 0.01), ('resistance', 0.01), ('voltage', 0.0), ('voltage_trigger_amplitude', 0.0), ('over_voltage_level', 8.0), ('voltage_rising_slew_rate', 0.1), ('voltage_falling_slew_rate', 0.1), ('transient_trigger_source', 'BUS'), ('output_trigger_source', 'BUS')]\n",
      "These blacklisted settings and their corresponding values were not reset:  [('_current', 0.0), ('_voltage', 0.0)]\n",
      "dict_keys(['instrument', 'debug', 'max_current', 'min_current', 'max_current_trigger_ampliutde', 'min_current_trigger_ampliutde', 'max_over_current_level', 'min_over_current_level', 'max_current_rising_slew_rate', 'min_current_rising_slew_rate', 'max_current_falling_slew_rate', 'min_current_falling_slew_rate', 'max_resistance', 'min_resistance', 'max_voltage', 'min_voltage', 'max_voltage_trigger_ampliutde', 'min_voltage_trigger_ampliutde', 'max_over_voltage_level', 'min_over_voltage_level', 'max_voltage_rising_slew_rate', 'min_voltage_rising_slew_rate', 'max_voltage_falling_slew_rate', 'min_voltage_falling_slew_rate', 'black_list_for_testing', '_output_on_delay_settings', '_output_off_delay_settings', '_output_mode_settings', '_output_settings', '_output_trigger_state_settings', '_smoothing_settings', '_current_settings', '_curret_trigger_amplitude_settings', '_over_current_level_settings', '_current_protection_state_settings', '_current_rising_slew_rate_settings', '_current_falling_slew_rate_settings', '_resistance_settings', '_voltage_settings', '_voltage_trigger_amplitude_settings', '_over_voltage_level_settings', '_voltage_rising_slew_rate_settings', '_voltage_falling_slew_rate_settings', '_transient_trigger_source_settings', '_output_trigger_source_settings', '_output_on_delay', '_output_off_delay', '_output_mode', '_output', '_output_trigger_state', '_smoothing', '_current', '_curret_trigger_amplitude', '_over_current_level', '_current_protection_state', '_current_rising_slew_rate', '_current_falling_slew_rate', '_resistance', '_voltage', '_voltage_trigger_amplitude', '_over_voltage_level', '_voltage_rising_slew_rate', '_voltage_falling_slew_rate', '_transient_trigger_source', '_output_trigger_source'])\n",
      "Reset state for the Keithley2260B was: [('output_on_delay', 0.0), ('output_off_delay', 0.0), ('output_mode', 'CVHS'), ('output', 'off'), ('output_trigger_state', 'off'), ('smoothing', 'low'), ('current', 0.0), ('curret_trigger_amplitude', 0.0), ('over_current_level', 29.7), ('current_protection_state', 'off'), ('current_rising_slew_rate', 0.01), ('current_falling_slew_rate', 0.01), ('resistance', 0.01), ('voltage', 0.0), ('voltage_trigger_amplitude', 0.0), ('over_voltage_level', 8.0), ('voltage_rising_slew_rate', 0.1), ('voltage_falling_slew_rate', 0.1), ('transient_trigger_source', 'BUS'), ('output_trigger_source', 'BUS')]\n",
      "Beginning tests for:  Keithley2260B\n",
      "11 range properties found and tested out of 20 total settings found.\n",
      "2 values properties found and tested out of 20 total settings found.\n",
      "2 indexed values properties found and tested out of 20 total settings found.\n",
      "3 dict values properties found and tested out of 20 total settings found.\n",
      "2 blacklisted settings not testing (likely due to interdependencies not suitable for automated testing)\n",
      "18 properties tested out of 20 total settings.\n",
      "Settings restored to: [('output_on_delay', 0.0), ('output_off_delay', 0.0), ('output_mode', 'CVHS'), ('output', 'off'), ('output_trigger_state', 'off'), ('smoothing', 'low'), ('current', 0.0), ('curret_trigger_amplitude', 0.0), ('over_current_level', 29.7), ('current_protection_state', 'off'), ('current_rising_slew_rate', 0.01), ('current_falling_slew_rate', 0.01), ('resistance', 0.01), ('voltage', 0.0), ('voltage_trigger_amplitude', 0.0), ('over_voltage_level', 8.0), ('voltage_rising_slew_rate', 0.1), ('voltage_falling_slew_rate', 0.1), ('transient_trigger_source', 'BUS'), ('output_trigger_source', 'BUS')]\n",
      "Tests passed, instrument Keithley2260B should be ready to go.\n"
     ]
    }
   ],
   "source": [
    "test_driver(keithley)"
   ]
  },
  {
   "cell_type": "code",
   "execution_count": null,
   "metadata": {},
   "outputs": [],
   "source": [
    "# Clear the instruments used to avoid them being innaccessible to other kernels.\n",
    "# Actually, this doesn't help but we should find something that does.\n",
    "# need to add __close__ ability to driers to close connection.\n",
    "try:\n",
    "    del srs830\n",
    "except: \n",
    "    pass\n",
    "\n",
    "try:\n",
    "    del keithley\n",
    "except: \n",
    "    pass"
   ]
  }
 ],
 "metadata": {
  "kernelspec": {
   "display_name": "rsbrostenv",
   "language": "python",
   "name": "python3"
  },
  "language_info": {
   "codemirror_mode": {
    "name": "ipython",
    "version": 3
   },
   "file_extension": ".py",
   "mimetype": "text/x-python",
   "name": "python",
   "nbconvert_exporter": "python",
   "pygments_lexer": "ipython3",
   "version": "3.11.5"
  },
  "orig_nbformat": 4
 },
 "nbformat": 4,
 "nbformat_minor": 2
}
