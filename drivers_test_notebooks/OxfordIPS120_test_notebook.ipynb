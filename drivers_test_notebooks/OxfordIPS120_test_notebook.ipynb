{
 "cells": [
  {
   "cell_type": "code",
   "execution_count": 1,
   "id": "114e61cb-2ac0-4a53-bf0e-c7888e554e2d",
   "metadata": {},
   "outputs": [
    {
     "name": "stdout",
     "output_type": "stream",
     "text": [
      "Could not load Keysight SD1\n",
      "Could not load Keysight SD1\n",
      "pylablib not found, AttocubeANC350 not loaded\n",
      "Basler Camera software not found, BaserCamera not loaded\n",
      "Helios Camera not installed\n",
      "msl not installed, Thorlabs BSC203 driver not loaded\n",
      "seabreeze module not found, Ocean Optics not imported\n",
      "Failed to load spinapi library.\n",
      "spinapi is not installed, PulseBlaster driver not loaded.\n",
      "Thorlabs Kinesis not found, ThorlabsBSC203 not loaded\n",
      "Thorlabs Kinesis not found, ThorlabsBPC303 not loaded\n",
      "Thorlabs Kinesis not found, ThorlabsMFF101 not loaded\n"
     ]
    }
   ],
   "source": [
    "import os\n",
    "import sys\n",
    "import time\n",
    "import threading\n",
    "from pathlib import Path\n",
    "from time import sleep\n",
    "import pyscan as ps\n",
    "import ipywidgets as widgets\n",
    "from IPython.display import display"
   ]
  },
  {
   "cell_type": "code",
   "execution_count": 2,
   "id": "8d0c2aef-d8d9-4d6a-aaa4-22aeb849691f",
   "metadata": {
    "scrolled": true
   },
   "outputs": [],
   "source": [
    "instruments = ps.ItemAttribute()\n",
    "instruments.ips120 = ps.new_instrument(gpib_address=25)\n",
    "devices = ps.ItemAttribute()\n",
    "devices.magnet = ps.OxfordIPS120(instruments.ips120, debug=False)"
   ]
  },
  {
   "cell_type": "code",
   "execution_count": 3,
   "id": "a888bba8-a6aa-44cd-938c-28433e4a52a0",
   "metadata": {},
   "outputs": [
    {
     "name": "stdout",
     "output_type": "stream",
     "text": [
      "Heater on\n",
      "At rest\n",
      "activity: To Set Point\n",
      "output_field = 0.0\n",
      "field_set_point = 0.0\n",
      "field_rate = 0.1\n"
     ]
    }
   ],
   "source": [
    "print(devices.magnet.print_state())"
   ]
  },
  {
   "cell_type": "markdown",
   "id": "8184656e-8650-4f65-9b63-4d9b2f703165",
   "metadata": {},
   "source": [
    "## direct read and write commands"
   ]
  },
  {
   "cell_type": "code",
   "execution_count": 4,
   "id": "3a00c3ac-1ad2-49d2-a7cd-a12812a5cf58",
   "metadata": {},
   "outputs": [
    {
     "name": "stdout",
     "output_type": "stream",
     "text": [
      "X00A1C3H1M10P03\n"
     ]
    }
   ],
   "source": [
    "result = devices.magnet.query('X')\n",
    "print(result)"
   ]
  },
  {
   "cell_type": "code",
   "execution_count": null,
   "id": "338da351-ca41-4488-94e6-2a229749ef6b",
   "metadata": {
    "scrolled": true
   },
   "outputs": [],
   "source": [
    "# extra read if necessary\n",
    "result = instruments.ips120.read()\n",
    "print(result)"
   ]
  },
  {
   "cell_type": "markdown",
   "id": "d478caef-dd58-4011-98a5-c98e0689658c",
   "metadata": {},
   "source": [
    "## Testing magnet driver"
   ]
  },
  {
   "cell_type": "code",
   "execution_count": 6,
   "id": "ef5d656f-7e6c-4aec-95cc-8929cf983ac4",
   "metadata": {},
   "outputs": [],
   "source": [
    "# don't sweep anywhere while testing\n",
    "devices.magnet.hold()"
   ]
  },
  {
   "cell_type": "markdown",
   "id": "c03e3fee-fada-4b0d-8918-cc0fc7311eac",
   "metadata": {},
   "source": [
    "### properties"
   ]
  },
  {
   "cell_type": "code",
   "execution_count": 7,
   "id": "c7a6bf3c-c19c-45e5-8dbd-baf701b954bf",
   "metadata": {},
   "outputs": [
    {
     "name": "stdout",
     "output_type": "stream",
     "text": [
      "0.0\n"
     ]
    }
   ],
   "source": [
    "print(devices.magnet.field_set_point)"
   ]
  },
  {
   "cell_type": "code",
   "execution_count": 8,
   "id": "dccb8369-e95c-4c9c-8dd7-8bfa5e76b923",
   "metadata": {},
   "outputs": [],
   "source": [
    "initial_value = devices.magnet.field_set_point\n",
    "new_value = 0.111\n",
    "devices.magnet.field_set_point = new_value\n",
    "result = devices.magnet.field_set_point\n",
    "assert result==new_value\n",
    "devices.magnet.field_set_point = initial_value\n",
    "result = devices.magnet.field_set_point\n",
    "assert result==initial_value"
   ]
  },
  {
   "cell_type": "code",
   "execution_count": 9,
   "id": "f3940807",
   "metadata": {},
   "outputs": [
    {
     "name": "stdout",
     "output_type": "stream",
     "text": [
      "0.1\n"
     ]
    }
   ],
   "source": [
    "print(devices.magnet.field_rate)"
   ]
  },
  {
   "cell_type": "code",
   "execution_count": 10,
   "id": "e5596e5f",
   "metadata": {},
   "outputs": [],
   "source": [
    "initial_value = devices.magnet.field_rate\n",
    "new_value = 0.111\n",
    "devices.magnet.field_rate = new_value\n",
    "result = devices.magnet.field_rate\n",
    "assert result==new_value\n",
    "devices.magnet.field_rate = initial_value\n",
    "result = devices.magnet.field_rate\n",
    "assert result==initial_value"
   ]
  },
  {
   "cell_type": "code",
   "execution_count": 11,
   "id": "158473d0",
   "metadata": {},
   "outputs": [
    {
     "name": "stdout",
     "output_type": "stream",
     "text": [
      "0.0\n"
     ]
    }
   ],
   "source": [
    "print(devices.magnet.current_set_point)"
   ]
  },
  {
   "cell_type": "code",
   "execution_count": 12,
   "id": "93df54cf",
   "metadata": {},
   "outputs": [],
   "source": [
    "initial_value = devices.magnet.current_set_point\n",
    "new_value = 0.111\n",
    "devices.magnet.current_set_point = new_value\n",
    "result = devices.magnet.current_set_point\n",
    "assert result==new_value\n",
    "devices.magnet.current_set_point = initial_value\n",
    "result = devices.magnet.current_set_point\n",
    "assert result==initial_value"
   ]
  },
  {
   "cell_type": "code",
   "execution_count": 13,
   "id": "622aaf10",
   "metadata": {},
   "outputs": [
    {
     "name": "stdout",
     "output_type": "stream",
     "text": [
      "0.449\n"
     ]
    }
   ],
   "source": [
    "print(devices.magnet.current_rate)"
   ]
  },
  {
   "cell_type": "code",
   "execution_count": 14,
   "id": "ece5e1d5",
   "metadata": {},
   "outputs": [],
   "source": [
    "initial_value = devices.magnet.current_rate\n",
    "new_value = 0.22 # current can only be set to two digits in non-extended mode\n",
    "devices.magnet.current_rate = new_value\n",
    "result = devices.magnet.current_rate\n",
    "assert result==new_value\n",
    "devices.magnet.current_rate = initial_value\n",
    "result = devices.magnet.current_rate\n",
    "assert result==initial_value"
   ]
  },
  {
   "cell_type": "markdown",
   "id": "c45141a5-c080-4df5-83d8-d19d82bbfe29",
   "metadata": {},
   "source": [
    "### read-only properties"
   ]
  },
  {
   "cell_type": "code",
   "execution_count": 15,
   "id": "660c4640-ed68-44c1-af4a-5551a347e0e0",
   "metadata": {},
   "outputs": [
    {
     "name": "stdout",
     "output_type": "stream",
     "text": [
      "0.0\n"
     ]
    }
   ],
   "source": [
    "print(devices.magnet.output_current)"
   ]
  },
  {
   "cell_type": "code",
   "execution_count": 16,
   "id": "45844641",
   "metadata": {},
   "outputs": [
    {
     "name": "stdout",
     "output_type": "stream",
     "text": [
      "-0.02\n"
     ]
    }
   ],
   "source": [
    "print(devices.magnet.voltage)"
   ]
  },
  {
   "cell_type": "code",
   "execution_count": 17,
   "id": "7178f259",
   "metadata": {},
   "outputs": [
    {
     "name": "stdout",
     "output_type": "stream",
     "text": [
      "0.09\n"
     ]
    }
   ],
   "source": [
    "print(devices.magnet.measured_current)"
   ]
  },
  {
   "cell_type": "code",
   "execution_count": 18,
   "id": "4c4f458d",
   "metadata": {},
   "outputs": [
    {
     "name": "stdout",
     "output_type": "stream",
     "text": [
      "0.0\n"
     ]
    }
   ],
   "source": [
    "print(devices.magnet.output_field)"
   ]
  },
  {
   "cell_type": "code",
   "execution_count": 19,
   "id": "0492a897",
   "metadata": {},
   "outputs": [
    {
     "name": "stdout",
     "output_type": "stream",
     "text": [
      "2.5\n"
     ]
    }
   ],
   "source": [
    "print(devices.magnet.software_voltage_limit)"
   ]
  },
  {
   "cell_type": "code",
   "execution_count": 20,
   "id": "313cd9bc",
   "metadata": {},
   "outputs": [
    {
     "name": "stdout",
     "output_type": "stream",
     "text": [
      "0.0\n"
     ]
    }
   ],
   "source": [
    "print(devices.magnet.persistent_current)"
   ]
  },
  {
   "cell_type": "code",
   "execution_count": 21,
   "id": "46a98f50",
   "metadata": {},
   "outputs": [
    {
     "name": "stdout",
     "output_type": "stream",
     "text": [
      "-32.8032\n"
     ]
    }
   ],
   "source": [
    "print(devices.magnet.trip_field)"
   ]
  },
  {
   "cell_type": "code",
   "execution_count": 22,
   "id": "9cbfcec5-d623-4bc7-ab2e-7e9729bd7eef",
   "metadata": {},
   "outputs": [
    {
     "name": "stdout",
     "output_type": "stream",
     "text": [
      "0.0\n"
     ]
    }
   ],
   "source": [
    "print(devices.magnet.persistent_field)"
   ]
  },
  {
   "cell_type": "code",
   "execution_count": 23,
   "id": "9e498bd2",
   "metadata": {},
   "outputs": [
    {
     "name": "stdout",
     "output_type": "stream",
     "text": [
      "-40.42\n"
     ]
    }
   ],
   "source": [
    "print(devices.magnet.safe_current_limit_negative)"
   ]
  },
  {
   "cell_type": "code",
   "execution_count": 24,
   "id": "9270c945",
   "metadata": {},
   "outputs": [
    {
     "name": "stdout",
     "output_type": "stream",
     "text": [
      "40.42\n"
     ]
    }
   ],
   "source": [
    "print(devices.magnet.safe_current_limit_positive)"
   ]
  },
  {
   "cell_type": "code",
   "execution_count": 25,
   "id": "67b5a56b",
   "metadata": {},
   "outputs": [
    {
     "name": "stdout",
     "output_type": "stream",
     "text": [
      "15.7\n"
     ]
    }
   ],
   "source": [
    "print(devices.magnet.lead_resistance)"
   ]
  },
  {
   "cell_type": "code",
   "execution_count": 26,
   "id": "6f67ea45",
   "metadata": {},
   "outputs": [
    {
     "name": "stdout",
     "output_type": "stream",
     "text": [
      "51.7\n"
     ]
    }
   ],
   "source": [
    "print(devices.magnet.magnet_inductance)"
   ]
  },
  {
   "cell_type": "code",
   "execution_count": 27,
   "id": "51951497",
   "metadata": {},
   "outputs": [
    {
     "name": "stdout",
     "output_type": "stream",
     "text": [
      "IPS120-10  Version 3.07  (c) OXFORD 1996\n"
     ]
    }
   ],
   "source": [
    "print(devices.magnet.version)"
   ]
  },
  {
   "cell_type": "code",
   "execution_count": 28,
   "id": "cffbc249-92f7-4b6e-9b34-a190d058ed53",
   "metadata": {},
   "outputs": [
    {
     "name": "stdout",
     "output_type": "stream",
     "text": [
      "X00A0C3H1M10P03\n"
     ]
    }
   ],
   "source": [
    "print(devices.magnet.status_string)"
   ]
  },
  {
   "cell_type": "code",
   "execution_count": 29,
   "id": "1d463b2e-5c90-4cac-b8d7-a1b6e2a5374c",
   "metadata": {},
   "outputs": [
    {
     "name": "stdout",
     "output_type": "stream",
     "text": [
      "quench_status = False\n"
     ]
    }
   ],
   "source": [
    "print(f\"quench_status = {devices.magnet.quench_status}\")"
   ]
  },
  {
   "cell_type": "code",
   "execution_count": 32,
   "id": "37244aed",
   "metadata": {},
   "outputs": [
    {
     "name": "stdout",
     "output_type": "stream",
     "text": [
      "heater_status = True\n"
     ]
    }
   ],
   "source": [
    "print(f\"heater_status = {devices.magnet.heater_status}\")"
   ]
  },
  {
   "cell_type": "code",
   "execution_count": 33,
   "id": "a267eb62",
   "metadata": {},
   "outputs": [
    {
     "name": "stdout",
     "output_type": "stream",
     "text": [
      "sweeping_status = False\n"
     ]
    }
   ],
   "source": [
    "print(f\"sweeping_status = {devices.magnet.sweeping_status}\")"
   ]
  },
  {
   "cell_type": "code",
   "execution_count": 34,
   "id": "d0f29612",
   "metadata": {},
   "outputs": [
    {
     "name": "stdout",
     "output_type": "stream",
     "text": [
      "persistent_status = False\n"
     ]
    }
   ],
   "source": [
    "print(f\"persistent_status = {devices.magnet.persistent_status}\")"
   ]
  },
  {
   "cell_type": "code",
   "execution_count": 35,
   "id": "c328fa05",
   "metadata": {},
   "outputs": [
    {
     "name": "stdout",
     "output_type": "stream",
     "text": [
      "remote_status = True\n"
     ]
    }
   ],
   "source": [
    "print(f\"remote_status = {devices.magnet.remote_status}\")"
   ]
  },
  {
   "cell_type": "markdown",
   "id": "ad484b76-01c0-40e3-bace-fee46414dfa3",
   "metadata": {},
   "source": [
    "### write-only properties"
   ]
  },
  {
   "cell_type": "code",
   "execution_count": 36,
   "id": "f3ca2872-7e6a-4770-a276-02f74a232ff9",
   "metadata": {},
   "outputs": [],
   "source": [
    "devices.magnet.remote_control = \"local_locked\""
   ]
  },
  {
   "cell_type": "code",
   "execution_count": 37,
   "id": "2e522e60",
   "metadata": {},
   "outputs": [],
   "source": [
    "devices.magnet.remote_control = \"remote_locked\""
   ]
  },
  {
   "cell_type": "code",
   "execution_count": 38,
   "id": "7720458b",
   "metadata": {},
   "outputs": [],
   "source": [
    "devices.magnet.remote_control = \"local_unlocked\""
   ]
  },
  {
   "cell_type": "code",
   "execution_count": 39,
   "id": "fda8a8dc",
   "metadata": {},
   "outputs": [],
   "source": [
    "devices.magnet.remote_control = \"remote_unlocked\""
   ]
  },
  {
   "cell_type": "code",
   "execution_count": 40,
   "id": "febaad6e-09a1-4435-9ddb-042d15568960",
   "metadata": {},
   "outputs": [],
   "source": [
    "devices.magnet.communications_protocol = \"normal\""
   ]
  },
  {
   "cell_type": "code",
   "execution_count": 41,
   "id": "09698c16-7a8b-44fb-8380-b2a7d414bc03",
   "metadata": {},
   "outputs": [
    {
     "name": "stdout",
     "output_type": "stream",
     "text": [
      "0.22\n"
     ]
    }
   ],
   "source": [
    "devices.magnet.current_rate = 0.222\n",
    "print(devices.magnet.current_rate)"
   ]
  },
  {
   "cell_type": "code",
   "execution_count": 42,
   "id": "aa75d1b5",
   "metadata": {},
   "outputs": [],
   "source": [
    "devices.magnet.communications_protocol = \"extended\""
   ]
  },
  {
   "cell_type": "code",
   "execution_count": 43,
   "id": "2caa82ab",
   "metadata": {},
   "outputs": [
    {
     "name": "stdout",
     "output_type": "stream",
     "text": [
      "0.222\n"
     ]
    }
   ],
   "source": [
    "devices.magnet.current_rate = 0.222\n",
    "print(devices.magnet.current_rate)"
   ]
  },
  {
   "cell_type": "code",
   "execution_count": 44,
   "id": "7235f709-727f-4f25-b089-4396f7c4d85e",
   "metadata": {},
   "outputs": [],
   "source": [
    "devices.magnet.heater_control = 'off'"
   ]
  },
  {
   "cell_type": "code",
   "execution_count": 45,
   "id": "1312fb4f",
   "metadata": {},
   "outputs": [],
   "source": [
    "devices.magnet.heater_control = 'on'"
   ]
  },
  {
   "cell_type": "code",
   "execution_count": 46,
   "id": "8b4a0755",
   "metadata": {},
   "outputs": [],
   "source": [
    "devices.magnet.heater_control = 'force'"
   ]
  },
  {
   "cell_type": "code",
   "execution_count": 47,
   "id": "eb302f8d-f3f9-443c-bba8-0cbd15918f10",
   "metadata": {},
   "outputs": [],
   "source": [
    "# only run if magnet is at zero\n",
    "# devices.magnet.activity_control = \"clamp\""
   ]
  },
  {
   "cell_type": "code",
   "execution_count": 48,
   "id": "e0aefdce",
   "metadata": {},
   "outputs": [],
   "source": [
    "devices.magnet.activity_control = \"hold\""
   ]
  },
  {
   "cell_type": "code",
   "execution_count": 51,
   "id": "17af6062",
   "metadata": {},
   "outputs": [],
   "source": [
    "devices.magnet.activity_control = \"to_zero\""
   ]
  },
  {
   "cell_type": "code",
   "execution_count": 50,
   "id": "5f06f175",
   "metadata": {},
   "outputs": [],
   "source": [
    "devices.magnet.activity_control = \"to_set_point\""
   ]
  },
  {
   "cell_type": "markdown",
   "id": "eaebdb30-c0f3-417a-942b-8da07126992e",
   "metadata": {},
   "source": [
    "### methods"
   ]
  },
  {
   "cell_type": "code",
   "execution_count": 55,
   "id": "9c303dc9-a9d9-43bf-bbd8-9ec87380c857",
   "metadata": {},
   "outputs": [],
   "source": [
    "devices.magnet.local() # keyword: locked=False"
   ]
  },
  {
   "cell_type": "code",
   "execution_count": 56,
   "id": "a935a8bb-2f23-45bc-a598-11e61ffca0d2",
   "metadata": {},
   "outputs": [],
   "source": [
    "devices.magnet.remote() # keyword: locked=False"
   ]
  },
  {
   "cell_type": "code",
   "execution_count": 57,
   "id": "14712428-c581-478c-b572-b610c7bdbbe3",
   "metadata": {
    "scrolled": true
   },
   "outputs": [],
   "source": [
    "devices.magnet.heater('off')"
   ]
  },
  {
   "cell_type": "code",
   "execution_count": 58,
   "id": "372d5931-36ca-4c8a-8a15-c7d0baa01164",
   "metadata": {},
   "outputs": [],
   "source": [
    "devices.magnet.heater('on')"
   ]
  },
  {
   "cell_type": "code",
   "execution_count": 59,
   "id": "851993a8-6326-479c-b479-c03eef087c7e",
   "metadata": {},
   "outputs": [],
   "source": [
    "devices.magnet.to_set_point()"
   ]
  },
  {
   "cell_type": "code",
   "execution_count": 60,
   "id": "e3c46264-dcef-44e9-a36f-44e61a9abe8c",
   "metadata": {},
   "outputs": [],
   "source": [
    "devices.magnet.hold()"
   ]
  },
  {
   "cell_type": "code",
   "execution_count": 61,
   "id": "f5d09c36-fbf5-4b5b-a88f-d44c13e27cd3",
   "metadata": {},
   "outputs": [],
   "source": [
    "devices.magnet.to_zero()"
   ]
  },
  {
   "cell_type": "code",
   "execution_count": 62,
   "id": "8d9547e5-422c-4d3b-bf9c-cb2478305bda",
   "metadata": {},
   "outputs": [
    {
     "name": "stdout",
     "output_type": "stream",
     "text": [
      "\n",
      "system status (operation) : Normal (X1=0)\n",
      "system status (voltage) : Normal (X2=0)\n",
      "Activity ; To Zero (A=2)\n",
      "LOC/REM status ; Remote & Unlocked (C=3)\n",
      "Heater ; On (H=1)\n",
      "Mode (rate) ; Tesla, Immediate, Fast (M1=1)\n",
      "Mode (sweep) ; At Rest (M2=0)\n"
     ]
    }
   ],
   "source": [
    "status = devices.magnet.status()\n",
    "print(status)"
   ]
  },
  {
   "cell_type": "markdown",
   "id": "69010774-8d57-47cf-84f1-2fc3ce10bba0",
   "metadata": {},
   "source": [
    "### magnet field property - only test with magnet cold"
   ]
  },
  {
   "cell_type": "code",
   "execution_count": 63,
   "id": "3c81d80e-aa14-4b31-89ee-dea52a10b00e",
   "metadata": {},
   "outputs": [],
   "source": [
    "devices.magnet.hold()\n",
    "devices.magnet.remote()\n",
    "devices.magnet.heater('on')\n",
    "original_rate = devices.magnet.field_rate\n",
    "devices.magnet.field_rate = 0.1\n",
    "value = devices.magnet.output_field\n",
    "db = 0.01\n",
    "new_value = value + db\n",
    "if new_value > devices.magnet.field_limit:\n",
    "    new_value = value - db\n",
    "devices.magnet.field = new_value\n",
    "assert devices.magnet.output_field == new_value"
   ]
  },
  {
   "cell_type": "code",
   "execution_count": 64,
   "id": "f5e5be95-8cca-4161-a084-1a30bebf3e4f",
   "metadata": {},
   "outputs": [],
   "source": [
    "devices.magnet.field = value\n",
    "assert devices.magnet.output_field == value"
   ]
  },
  {
   "cell_type": "code",
   "execution_count": 65,
   "id": "7bb77b13-3f67-4fb1-98db-4c75675dfa80",
   "metadata": {},
   "outputs": [],
   "source": [
    "devices.field_rate = original_rate"
   ]
  },
  {
   "cell_type": "code",
   "execution_count": 66,
   "id": "b0624387-61c4-455c-b717-6a8c08b6796b",
   "metadata": {},
   "outputs": [],
   "source": [
    "devices.magnet.heater(\"off\")"
   ]
  }
 ],
 "metadata": {
  "kernelspec": {
   "display_name": "Python 3 (ipykernel)",
   "language": "python",
   "name": "python3"
  },
  "language_info": {
   "codemirror_mode": {
    "name": "ipython",
    "version": 3
   },
   "file_extension": ".py",
   "mimetype": "text/x-python",
   "name": "python",
   "nbconvert_exporter": "python",
   "pygments_lexer": "ipython3",
   "version": "3.11.7"
  }
 },
 "nbformat": 4,
 "nbformat_minor": 5
}
