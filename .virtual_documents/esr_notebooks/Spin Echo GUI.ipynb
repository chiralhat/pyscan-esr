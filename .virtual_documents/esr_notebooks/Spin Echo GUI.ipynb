


%load_ext autoreload
%autoreload 2

import sys, os
sys.path.append('../')

import pyscan as ps
import matplotlib.pyplot as plt
import numpy as np
from spinecho_gui import *
from spinecho_scripts import *
if 'devices' not in globals():
    devices = ps.ItemAttribute()
    sig = ps.ItemAttribute()
    sweep = {}

plt.rc('lines', lw=2)
plotfont = {'family': 'serif', 'size': 16}
plt.rc('font', **plotfont)
plt.rc('mathtext', fontset='cm')

wait = 0.3

controls, parameters = spinecho_gui(sig, devices, sweep)


controls





ps.live_plot2D(sweep['expt'], x_name='t', y_name=parameters['y_name'], data_name='xsub', transpose=1)





ps.live_plot1D(sweep['expt'], x_name=parameters['y_name'], data_name='xint')


ps.plot_exp_fit_norange(np.array([2*sweep['expt'][parameters['y_name']], sweep['expt'].xint]), 0)



