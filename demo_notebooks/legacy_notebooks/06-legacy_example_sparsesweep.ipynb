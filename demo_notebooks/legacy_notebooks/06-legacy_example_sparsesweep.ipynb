{
 "cells": [
  {
   "cell_type": "markdown",
   "metadata": {},
   "source": [
    "# 06 Example - Sparse Sweep"
   ]
  },
  {
   "cell_type": "code",
   "execution_count": 1,
   "metadata": {
    "execution": {
     "iopub.execute_input": "2023-12-14T21:21:26.007818Z",
     "iopub.status.busy": "2023-12-14T21:21:26.007167Z",
     "iopub.status.idle": "2023-12-14T21:21:27.970435Z",
     "shell.execute_reply": "2023-12-14T21:21:27.970032Z"
    },
    "tags": []
   },
   "outputs": [
    {
     "name": "stdout",
     "output_type": "stream",
     "text": [
      "Could not load Keysight SD1\n",
      "Could not load Keysight SD1\n",
      "pylablib not found, AttocubeANC350 not loaded\n",
      "Basler Camera software not found, BaserCamera not loaded\n",
      "Helios Camera not installed\n",
      "msl not installed, Thorlabs BSC203 driver not loaded\n",
      "seabreeze module not found, Ocean Optics not imported\n",
      "Failed to load spinapi library.\n",
      "spinapi is not installed, PulseBlaster driver not loaded.\n",
      "Thorlabs Kinesis not found, ThorlabsBSC203 not loaded\n",
      "Thorlabs Kinesis not found, ThorlabsBPC303 not loaded\n",
      "Thorlabs Kinesis not found, ThorlabsMFF101 not loaded\n"
     ]
    }
   ],
   "source": [
    "import pyscan as ps\n",
    "import numpy as np\n",
    "import matplotlib.pyplot as plt"
   ]
  },
  {
   "cell_type": "markdown",
   "metadata": {},
   "source": [
    "## Setup devices"
   ]
  },
  {
   "cell_type": "code",
   "execution_count": 2,
   "metadata": {
    "execution": {
     "iopub.execute_input": "2023-12-14T21:21:27.972929Z",
     "iopub.status.busy": "2023-12-14T21:21:27.972633Z",
     "iopub.status.idle": "2023-12-14T21:21:27.975110Z",
     "shell.execute_reply": "2023-12-14T21:21:27.974799Z"
    },
    "tags": []
   },
   "outputs": [],
   "source": [
    "devices = ps.ItemAttribute()\n",
    "\n",
    "devices.v1 = ps.TestVoltage()\n",
    "devices.v2 = ps.TestVoltage()"
   ]
  },
  {
   "cell_type": "markdown",
   "metadata": {},
   "source": [
    "## Define a measure function"
   ]
  },
  {
   "cell_type": "code",
   "execution_count": 3,
   "metadata": {},
   "outputs": [],
   "source": [
    "def get_voltage_data(expt):\n",
    "    \"\"\"\n",
    "    Reads the voltage from v1, v2 devices, and adds a calculated value vsum\n",
    "    \"\"\"\n",
    "     \n",
    "    runinfo = expt.runinfo\n",
    "    devices = expt.devices\n",
    "\n",
    "    d = ps.ItemAttribute()\n",
    "\n",
    "    d.v1 = devices.v1.voltage\n",
    "    d.v2 = devices.v2.voltage\n",
    "\n",
    "    d.vsum = d.v1 + d.v2    \n",
    "\n",
    "    return d"
   ]
  },
  {
   "cell_type": "markdown",
   "metadata": {},
   "source": [
    "## Define function to generate sparse points"
   ]
  },
  {
   "cell_type": "code",
   "execution_count": 4,
   "metadata": {
    "execution": {
     "iopub.execute_input": "2023-12-14T21:21:27.982676Z",
     "iopub.status.busy": "2023-12-14T21:21:27.982529Z",
     "iopub.status.idle": "2023-12-14T21:21:27.985819Z",
     "shell.execute_reply": "2023-12-14T21:21:27.985367Z"
    },
    "tags": []
   },
   "outputs": [],
   "source": [
    "from random import random, choices\n",
    "\n",
    "def uniform_cartesian_points(runinfo, percent):\n",
    "    ''' Create a mask (a 2D list) whose shape matches the dimensions of loop0 and loop1. \n",
    "    A value of 0 means the corresponding point will not be collected; \n",
    "    a value of 1 means that the point will be collected.\n",
    "\n",
    "    The `percent` argument determines the percentage of total points that will be collected.\n",
    "    '''\n",
    "    sparse_points = np.zeros(runinfo.dims)\n",
    "    n_points = np.prod(runinfo.dims)\n",
    "    points = np.array(np.where(sparse_points==0)).T\n",
    "    rand_points = choices(points, k=int(percent / 100 * n_points)) # k is number of random points to collect\n",
    "    mask = tuple(map(tuple, np.array(rand_points).T))\n",
    "    sparse_points[mask] = 1\n",
    "\n",
    "    return sparse_points"
   ]
  },
  {
   "cell_type": "markdown",
   "metadata": {},
   "source": [
    "## Experiments"
   ]
  },
  {
   "cell_type": "markdown",
   "metadata": {},
   "source": [
    "### 1. 2D Scan using SparseSweep"
   ]
  },
  {
   "cell_type": "code",
   "execution_count": 5,
   "metadata": {
    "execution": {
     "iopub.execute_input": "2023-12-14T21:21:27.987673Z",
     "iopub.status.busy": "2023-12-14T21:21:27.987516Z",
     "iopub.status.idle": "2023-12-14T21:21:27.994827Z",
     "shell.execute_reply": "2023-12-14T21:21:27.994486Z"
    },
    "scrolled": true,
    "tags": []
   },
   "outputs": [],
   "source": [
    "# Setup runinfo with loop0 and loop1 as PropertyScan\n",
    "runinfo = ps.RunInfo()\n",
    "\n",
    "runinfo.loop0 = ps.PropertyScan({'v1': ps.drange(0, 0.02, 2)}, prop='voltage', dt=0.01)\n",
    "runinfo.loop1 = ps.PropertyScan({'v2': ps.drange(0, 0.2, 10)}, prop='voltage', dt=0.01)\n",
    "\n",
    "runinfo.sparse_points = uniform_cartesian_points(runinfo, percent = 10)\n",
    "runinfo.measure_function = get_voltage_data\n",
    "\n",
    "expt = ps.SparseSweep(runinfo, devices)\n",
    "\n",
    "expt.start_thread()"
   ]
  },
  {
   "cell_type": "code",
   "execution_count": 6,
   "metadata": {
    "execution": {
     "iopub.execute_input": "2023-12-14T21:21:27.996990Z",
     "iopub.status.busy": "2023-12-14T21:21:27.996680Z",
     "iopub.status.idle": "2023-12-14T21:21:40.908424Z",
     "shell.execute_reply": "2023-12-14T21:21:40.907960Z"
    },
    "tags": []
   },
   "outputs": [
    {
     "data": {
      "image/png": "[encoded data removed]",
      "text/plain": [
       "<Figure size 640x480 with 1 Axes>"
      ]
     },
     "metadata": {},
     "output_type": "display_data"
    }
   ],
   "source": [
    "ps.live_plot2D(expt, data_name=\"vsum\")"
   ]
  }
 ],
 "metadata": {
  "kernelspec": {
   "display_name": "base",
   "language": "python",
   "name": "python3"
  },
  "language_info": {
   "codemirror_mode": {
    "name": "ipython",
    "version": 3
   },
   "file_extension": ".py",
   "mimetype": "text/x-python",
   "name": "python",
   "nbconvert_exporter": "python",
   "pygments_lexer": "ipython3",
   "version": "3.11.4"
  }
 },
 "nbformat": 4,
 "nbformat_minor": 4
}
